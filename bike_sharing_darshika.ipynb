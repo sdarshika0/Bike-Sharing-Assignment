{
 "cells": [
  {
   "cell_type": "code",
   "execution_count": 1,
   "id": "fd9f172c",
   "metadata": {},
   "outputs": [],
   "source": [
    "# For analysis and numerical functions\n",
    "import pandas as pd\n",
    "import numpy as np\n",
    "\n",
    "# For Vizualization\n",
    "import seaborn as sns\n",
    "import matplotlib.pyplot as plt\n",
    "\n",
    "# Extra\n",
    "import warnings\n",
    "warnings.filterwarnings(action='ignore')\n",
    "\n",
    "# For modelling\n",
    "from sklearn.model_selection import train_test_split\n",
    "from sklearn.preprocessing import MinMaxScaler\n",
    "from sklearn.feature_selection import RFE\n",
    "from sklearn.linear_model import LinearRegression\n",
    "from statsmodels.stats.outliers_influence import variance_inflation_factor\n",
    "import statsmodels.api as sm\n",
    "from sklearn.metrics import r2_score"
   ]
  },
  {
   "cell_type": "markdown",
   "id": "5727e5a4",
   "metadata": {},
   "source": [
    "## Dataset Loading"
   ]
  },
  {
   "cell_type": "code",
   "execution_count": 2,
   "id": "f09d29bf",
   "metadata": {},
   "outputs": [
    {
     "data": {
      "text/html": [
       "<div>\n",
       "<style scoped>\n",
       "    .dataframe tbody tr th:only-of-type {\n",
       "        vertical-align: middle;\n",
       "    }\n",
       "\n",
       "    .dataframe tbody tr th {\n",
       "        vertical-align: top;\n",
       "    }\n",
       "\n",
       "    .dataframe thead th {\n",
       "        text-align: right;\n",
       "    }\n",
       "</style>\n",
       "<table border=\"1\" class=\"dataframe\">\n",
       "  <thead>\n",
       "    <tr style=\"text-align: right;\">\n",
       "      <th></th>\n",
       "      <th>instant</th>\n",
       "      <th>dteday</th>\n",
       "      <th>season</th>\n",
       "      <th>yr</th>\n",
       "      <th>mnth</th>\n",
       "      <th>holiday</th>\n",
       "      <th>weekday</th>\n",
       "      <th>workingday</th>\n",
       "      <th>weathersit</th>\n",
       "      <th>temp</th>\n",
       "      <th>atemp</th>\n",
       "      <th>hum</th>\n",
       "      <th>windspeed</th>\n",
       "      <th>casual</th>\n",
       "      <th>registered</th>\n",
       "      <th>cnt</th>\n",
       "    </tr>\n",
       "  </thead>\n",
       "  <tbody>\n",
       "    <tr>\n",
       "      <th>0</th>\n",
       "      <td>1</td>\n",
       "      <td>01-01-2018</td>\n",
       "      <td>1</td>\n",
       "      <td>0</td>\n",
       "      <td>1</td>\n",
       "      <td>0</td>\n",
       "      <td>1</td>\n",
       "      <td>1</td>\n",
       "      <td>2</td>\n",
       "      <td>14.110847</td>\n",
       "      <td>18.18125</td>\n",
       "      <td>80.5833</td>\n",
       "      <td>10.749882</td>\n",
       "      <td>331</td>\n",
       "      <td>654</td>\n",
       "      <td>985</td>\n",
       "    </tr>\n",
       "    <tr>\n",
       "      <th>1</th>\n",
       "      <td>2</td>\n",
       "      <td>02-01-2018</td>\n",
       "      <td>1</td>\n",
       "      <td>0</td>\n",
       "      <td>1</td>\n",
       "      <td>0</td>\n",
       "      <td>2</td>\n",
       "      <td>1</td>\n",
       "      <td>2</td>\n",
       "      <td>14.902598</td>\n",
       "      <td>17.68695</td>\n",
       "      <td>69.6087</td>\n",
       "      <td>16.652113</td>\n",
       "      <td>131</td>\n",
       "      <td>670</td>\n",
       "      <td>801</td>\n",
       "    </tr>\n",
       "    <tr>\n",
       "      <th>2</th>\n",
       "      <td>3</td>\n",
       "      <td>03-01-2018</td>\n",
       "      <td>1</td>\n",
       "      <td>0</td>\n",
       "      <td>1</td>\n",
       "      <td>0</td>\n",
       "      <td>3</td>\n",
       "      <td>1</td>\n",
       "      <td>1</td>\n",
       "      <td>8.050924</td>\n",
       "      <td>9.47025</td>\n",
       "      <td>43.7273</td>\n",
       "      <td>16.636703</td>\n",
       "      <td>120</td>\n",
       "      <td>1229</td>\n",
       "      <td>1349</td>\n",
       "    </tr>\n",
       "    <tr>\n",
       "      <th>3</th>\n",
       "      <td>4</td>\n",
       "      <td>04-01-2018</td>\n",
       "      <td>1</td>\n",
       "      <td>0</td>\n",
       "      <td>1</td>\n",
       "      <td>0</td>\n",
       "      <td>4</td>\n",
       "      <td>1</td>\n",
       "      <td>1</td>\n",
       "      <td>8.200000</td>\n",
       "      <td>10.60610</td>\n",
       "      <td>59.0435</td>\n",
       "      <td>10.739832</td>\n",
       "      <td>108</td>\n",
       "      <td>1454</td>\n",
       "      <td>1562</td>\n",
       "    </tr>\n",
       "    <tr>\n",
       "      <th>4</th>\n",
       "      <td>5</td>\n",
       "      <td>05-01-2018</td>\n",
       "      <td>1</td>\n",
       "      <td>0</td>\n",
       "      <td>1</td>\n",
       "      <td>0</td>\n",
       "      <td>5</td>\n",
       "      <td>1</td>\n",
       "      <td>1</td>\n",
       "      <td>9.305237</td>\n",
       "      <td>11.46350</td>\n",
       "      <td>43.6957</td>\n",
       "      <td>12.522300</td>\n",
       "      <td>82</td>\n",
       "      <td>1518</td>\n",
       "      <td>1600</td>\n",
       "    </tr>\n",
       "  </tbody>\n",
       "</table>\n",
       "</div>"
      ],
      "text/plain": [
       "   instant      dteday  season  yr  mnth  holiday  weekday  workingday  \\\n",
       "0        1  01-01-2018       1   0     1        0        1           1   \n",
       "1        2  02-01-2018       1   0     1        0        2           1   \n",
       "2        3  03-01-2018       1   0     1        0        3           1   \n",
       "3        4  04-01-2018       1   0     1        0        4           1   \n",
       "4        5  05-01-2018       1   0     1        0        5           1   \n",
       "\n",
       "   weathersit       temp     atemp      hum  windspeed  casual  registered  \\\n",
       "0           2  14.110847  18.18125  80.5833  10.749882     331         654   \n",
       "1           2  14.902598  17.68695  69.6087  16.652113     131         670   \n",
       "2           1   8.050924   9.47025  43.7273  16.636703     120        1229   \n",
       "3           1   8.200000  10.60610  59.0435  10.739832     108        1454   \n",
       "4           1   9.305237  11.46350  43.6957  12.522300      82        1518   \n",
       "\n",
       "    cnt  \n",
       "0   985  \n",
       "1   801  \n",
       "2  1349  \n",
       "3  1562  \n",
       "4  1600  "
      ]
     },
     "execution_count": 2,
     "metadata": {},
     "output_type": "execute_result"
    }
   ],
   "source": [
    "df=pd.read_csv(\"day.csv\")\n",
    "df.head()"
   ]
  },
  {
   "cell_type": "markdown",
   "id": "9635bd91",
   "metadata": {},
   "source": [
    "## Data Sanity Checks"
   ]
  },
  {
   "cell_type": "code",
   "execution_count": 3,
   "id": "a9cbc442",
   "metadata": {},
   "outputs": [
    {
     "data": {
      "text/plain": [
       "(730, 16)"
      ]
     },
     "execution_count": 3,
     "metadata": {},
     "output_type": "execute_result"
    }
   ],
   "source": [
    "df.shape"
   ]
  },
  {
   "cell_type": "code",
   "execution_count": 4,
   "id": "8f3bd8d5",
   "metadata": {},
   "outputs": [
    {
     "name": "stdout",
     "output_type": "stream",
     "text": [
      "<class 'pandas.core.frame.DataFrame'>\n",
      "RangeIndex: 730 entries, 0 to 729\n",
      "Data columns (total 16 columns):\n",
      " #   Column      Non-Null Count  Dtype  \n",
      "---  ------      --------------  -----  \n",
      " 0   instant     730 non-null    int64  \n",
      " 1   dteday      730 non-null    object \n",
      " 2   season      730 non-null    int64  \n",
      " 3   yr          730 non-null    int64  \n",
      " 4   mnth        730 non-null    int64  \n",
      " 5   holiday     730 non-null    int64  \n",
      " 6   weekday     730 non-null    int64  \n",
      " 7   workingday  730 non-null    int64  \n",
      " 8   weathersit  730 non-null    int64  \n",
      " 9   temp        730 non-null    float64\n",
      " 10  atemp       730 non-null    float64\n",
      " 11  hum         730 non-null    float64\n",
      " 12  windspeed   730 non-null    float64\n",
      " 13  casual      730 non-null    int64  \n",
      " 14  registered  730 non-null    int64  \n",
      " 15  cnt         730 non-null    int64  \n",
      "dtypes: float64(4), int64(11), object(1)\n",
      "memory usage: 91.4+ KB\n"
     ]
    }
   ],
   "source": [
    "df.info()"
   ]
  },
  {
   "cell_type": "markdown",
   "id": "16e1ebcc",
   "metadata": {},
   "source": [
    "## Missing Value Check"
   ]
  },
  {
   "cell_type": "code",
   "execution_count": 5,
   "id": "d013ca2f",
   "metadata": {},
   "outputs": [
    {
     "data": {
      "text/plain": [
       "instant       0.0\n",
       "dteday        0.0\n",
       "season        0.0\n",
       "yr            0.0\n",
       "mnth          0.0\n",
       "holiday       0.0\n",
       "weekday       0.0\n",
       "workingday    0.0\n",
       "weathersit    0.0\n",
       "temp          0.0\n",
       "atemp         0.0\n",
       "hum           0.0\n",
       "windspeed     0.0\n",
       "casual        0.0\n",
       "registered    0.0\n",
       "cnt           0.0\n",
       "dtype: float64"
      ]
     },
     "execution_count": 5,
     "metadata": {},
     "output_type": "execute_result"
    }
   ],
   "source": [
    "df.isnull().mean()"
   ]
  },
  {
   "cell_type": "markdown",
   "id": "dbaf7d80",
   "metadata": {},
   "source": [
    "## Pre Processing Steps"
   ]
  },
  {
   "cell_type": "markdown",
   "id": "3df75300",
   "metadata": {},
   "source": [
    "### Dropping unnecessary columns"
   ]
  },
  {
   "cell_type": "code",
   "execution_count": 6,
   "id": "1acccab4",
   "metadata": {},
   "outputs": [
    {
     "data": {
      "text/html": [
       "<div>\n",
       "<style scoped>\n",
       "    .dataframe tbody tr th:only-of-type {\n",
       "        vertical-align: middle;\n",
       "    }\n",
       "\n",
       "    .dataframe tbody tr th {\n",
       "        vertical-align: top;\n",
       "    }\n",
       "\n",
       "    .dataframe thead th {\n",
       "        text-align: right;\n",
       "    }\n",
       "</style>\n",
       "<table border=\"1\" class=\"dataframe\">\n",
       "  <thead>\n",
       "    <tr style=\"text-align: right;\">\n",
       "      <th></th>\n",
       "      <th>season</th>\n",
       "      <th>yr</th>\n",
       "      <th>mnth</th>\n",
       "      <th>holiday</th>\n",
       "      <th>weekday</th>\n",
       "      <th>workingday</th>\n",
       "      <th>weathersit</th>\n",
       "      <th>temp</th>\n",
       "      <th>atemp</th>\n",
       "      <th>hum</th>\n",
       "      <th>windspeed</th>\n",
       "      <th>cnt</th>\n",
       "    </tr>\n",
       "  </thead>\n",
       "  <tbody>\n",
       "    <tr>\n",
       "      <th>0</th>\n",
       "      <td>1</td>\n",
       "      <td>0</td>\n",
       "      <td>1</td>\n",
       "      <td>0</td>\n",
       "      <td>1</td>\n",
       "      <td>1</td>\n",
       "      <td>2</td>\n",
       "      <td>14.110847</td>\n",
       "      <td>18.18125</td>\n",
       "      <td>80.5833</td>\n",
       "      <td>10.749882</td>\n",
       "      <td>985</td>\n",
       "    </tr>\n",
       "    <tr>\n",
       "      <th>1</th>\n",
       "      <td>1</td>\n",
       "      <td>0</td>\n",
       "      <td>1</td>\n",
       "      <td>0</td>\n",
       "      <td>2</td>\n",
       "      <td>1</td>\n",
       "      <td>2</td>\n",
       "      <td>14.902598</td>\n",
       "      <td>17.68695</td>\n",
       "      <td>69.6087</td>\n",
       "      <td>16.652113</td>\n",
       "      <td>801</td>\n",
       "    </tr>\n",
       "    <tr>\n",
       "      <th>2</th>\n",
       "      <td>1</td>\n",
       "      <td>0</td>\n",
       "      <td>1</td>\n",
       "      <td>0</td>\n",
       "      <td>3</td>\n",
       "      <td>1</td>\n",
       "      <td>1</td>\n",
       "      <td>8.050924</td>\n",
       "      <td>9.47025</td>\n",
       "      <td>43.7273</td>\n",
       "      <td>16.636703</td>\n",
       "      <td>1349</td>\n",
       "    </tr>\n",
       "    <tr>\n",
       "      <th>3</th>\n",
       "      <td>1</td>\n",
       "      <td>0</td>\n",
       "      <td>1</td>\n",
       "      <td>0</td>\n",
       "      <td>4</td>\n",
       "      <td>1</td>\n",
       "      <td>1</td>\n",
       "      <td>8.200000</td>\n",
       "      <td>10.60610</td>\n",
       "      <td>59.0435</td>\n",
       "      <td>10.739832</td>\n",
       "      <td>1562</td>\n",
       "    </tr>\n",
       "    <tr>\n",
       "      <th>4</th>\n",
       "      <td>1</td>\n",
       "      <td>0</td>\n",
       "      <td>1</td>\n",
       "      <td>0</td>\n",
       "      <td>5</td>\n",
       "      <td>1</td>\n",
       "      <td>1</td>\n",
       "      <td>9.305237</td>\n",
       "      <td>11.46350</td>\n",
       "      <td>43.6957</td>\n",
       "      <td>12.522300</td>\n",
       "      <td>1600</td>\n",
       "    </tr>\n",
       "  </tbody>\n",
       "</table>\n",
       "</div>"
      ],
      "text/plain": [
       "   season  yr  mnth  holiday  weekday  workingday  weathersit       temp  \\\n",
       "0       1   0     1        0        1           1           2  14.110847   \n",
       "1       1   0     1        0        2           1           2  14.902598   \n",
       "2       1   0     1        0        3           1           1   8.050924   \n",
       "3       1   0     1        0        4           1           1   8.200000   \n",
       "4       1   0     1        0        5           1           1   9.305237   \n",
       "\n",
       "      atemp      hum  windspeed   cnt  \n",
       "0  18.18125  80.5833  10.749882   985  \n",
       "1  17.68695  69.6087  16.652113   801  \n",
       "2   9.47025  43.7273  16.636703  1349  \n",
       "3  10.60610  59.0435  10.739832  1562  \n",
       "4  11.46350  43.6957  12.522300  1600  "
      ]
     },
     "execution_count": 6,
     "metadata": {},
     "output_type": "execute_result"
    }
   ],
   "source": [
    "df1=df.drop(['instant','dteday','casual', 'registered'], axis=1)\n",
    "df1.head()"
   ]
  },
  {
   "cell_type": "code",
   "execution_count": 7,
   "id": "ec23e554",
   "metadata": {},
   "outputs": [
    {
     "data": {
      "text/plain": [
       "(730, 12)"
      ]
     },
     "execution_count": 7,
     "metadata": {},
     "output_type": "execute_result"
    }
   ],
   "source": [
    "df1.shape"
   ]
  },
  {
   "cell_type": "markdown",
   "id": "559d697f",
   "metadata": {},
   "source": [
    "### From data we can see that 'season','yr','mnth','holiday','weekday','workingday','weathersit' all are categorical variables.\n",
    "### We will replace 'season','weekday' and weathersit with appropriate values."
   ]
  },
  {
   "cell_type": "code",
   "execution_count": 8,
   "id": "8047b5db",
   "metadata": {},
   "outputs": [],
   "source": [
    "# Mapping season column\n",
    "df1['season'].replace({1:\"spring\",2:\"summer\",3:\"fall\",4:\"winter\"},inplace=True)"
   ]
  },
  {
   "cell_type": "code",
   "execution_count": 9,
   "id": "e32274db",
   "metadata": {},
   "outputs": [],
   "source": [
    "# Mapping mnth column\n",
    "df1['mnth'].replace({1:\"January\",2:\"Feburary\",3:\"March\",4:\"April\",5:\"May\",6:\"June\",7:\"July\",8:\"August\",\n",
    "                    9:\"September\",10:\"October\",11:\"November\",12:\"December\"},inplace=True)"
   ]
  },
  {
   "cell_type": "code",
   "execution_count": 10,
   "id": "af7f3fd4",
   "metadata": {},
   "outputs": [],
   "source": [
    "# Mapping weekday column\n",
    "df1['weekday'].replace({0:\"Sunday\",1:\"Monday\",2:\"Tuesday\",3:\"Wednesday\",4:\"Thursday\",5:\"Friday\",6:\"Saturday\"},inplace=True)"
   ]
  },
  {
   "cell_type": "code",
   "execution_count": 11,
   "id": "f2bb32fa",
   "metadata": {},
   "outputs": [],
   "source": [
    "# Mapping weathersit column\n",
    "df1['weathersit'].replace({1:\"Clear_Few Clouds\",2:\"Mist_cloudy\",3:\"Light rain_Light snow_Thunderstorm\",\n",
    "                          4:'Heavy Rain_Ice Pallets_Thunderstorm_Mist'},inplace=True)"
   ]
  },
  {
   "cell_type": "code",
   "execution_count": 12,
   "id": "6bad0ebe",
   "metadata": {},
   "outputs": [
    {
     "data": {
      "text/html": [
       "<div>\n",
       "<style scoped>\n",
       "    .dataframe tbody tr th:only-of-type {\n",
       "        vertical-align: middle;\n",
       "    }\n",
       "\n",
       "    .dataframe tbody tr th {\n",
       "        vertical-align: top;\n",
       "    }\n",
       "\n",
       "    .dataframe thead th {\n",
       "        text-align: right;\n",
       "    }\n",
       "</style>\n",
       "<table border=\"1\" class=\"dataframe\">\n",
       "  <thead>\n",
       "    <tr style=\"text-align: right;\">\n",
       "      <th></th>\n",
       "      <th>season</th>\n",
       "      <th>yr</th>\n",
       "      <th>mnth</th>\n",
       "      <th>holiday</th>\n",
       "      <th>weekday</th>\n",
       "      <th>workingday</th>\n",
       "      <th>weathersit</th>\n",
       "      <th>temp</th>\n",
       "      <th>atemp</th>\n",
       "      <th>hum</th>\n",
       "      <th>windspeed</th>\n",
       "      <th>cnt</th>\n",
       "    </tr>\n",
       "  </thead>\n",
       "  <tbody>\n",
       "    <tr>\n",
       "      <th>0</th>\n",
       "      <td>spring</td>\n",
       "      <td>0</td>\n",
       "      <td>January</td>\n",
       "      <td>0</td>\n",
       "      <td>Monday</td>\n",
       "      <td>1</td>\n",
       "      <td>Mist_cloudy</td>\n",
       "      <td>14.110847</td>\n",
       "      <td>18.18125</td>\n",
       "      <td>80.5833</td>\n",
       "      <td>10.749882</td>\n",
       "      <td>985</td>\n",
       "    </tr>\n",
       "    <tr>\n",
       "      <th>1</th>\n",
       "      <td>spring</td>\n",
       "      <td>0</td>\n",
       "      <td>January</td>\n",
       "      <td>0</td>\n",
       "      <td>Tuesday</td>\n",
       "      <td>1</td>\n",
       "      <td>Mist_cloudy</td>\n",
       "      <td>14.902598</td>\n",
       "      <td>17.68695</td>\n",
       "      <td>69.6087</td>\n",
       "      <td>16.652113</td>\n",
       "      <td>801</td>\n",
       "    </tr>\n",
       "    <tr>\n",
       "      <th>2</th>\n",
       "      <td>spring</td>\n",
       "      <td>0</td>\n",
       "      <td>January</td>\n",
       "      <td>0</td>\n",
       "      <td>Wednesday</td>\n",
       "      <td>1</td>\n",
       "      <td>Clear_Few Clouds</td>\n",
       "      <td>8.050924</td>\n",
       "      <td>9.47025</td>\n",
       "      <td>43.7273</td>\n",
       "      <td>16.636703</td>\n",
       "      <td>1349</td>\n",
       "    </tr>\n",
       "    <tr>\n",
       "      <th>3</th>\n",
       "      <td>spring</td>\n",
       "      <td>0</td>\n",
       "      <td>January</td>\n",
       "      <td>0</td>\n",
       "      <td>Thursday</td>\n",
       "      <td>1</td>\n",
       "      <td>Clear_Few Clouds</td>\n",
       "      <td>8.200000</td>\n",
       "      <td>10.60610</td>\n",
       "      <td>59.0435</td>\n",
       "      <td>10.739832</td>\n",
       "      <td>1562</td>\n",
       "    </tr>\n",
       "    <tr>\n",
       "      <th>4</th>\n",
       "      <td>spring</td>\n",
       "      <td>0</td>\n",
       "      <td>January</td>\n",
       "      <td>0</td>\n",
       "      <td>Friday</td>\n",
       "      <td>1</td>\n",
       "      <td>Clear_Few Clouds</td>\n",
       "      <td>9.305237</td>\n",
       "      <td>11.46350</td>\n",
       "      <td>43.6957</td>\n",
       "      <td>12.522300</td>\n",
       "      <td>1600</td>\n",
       "    </tr>\n",
       "  </tbody>\n",
       "</table>\n",
       "</div>"
      ],
      "text/plain": [
       "   season  yr     mnth  holiday    weekday  workingday        weathersit  \\\n",
       "0  spring   0  January        0     Monday           1       Mist_cloudy   \n",
       "1  spring   0  January        0    Tuesday           1       Mist_cloudy   \n",
       "2  spring   0  January        0  Wednesday           1  Clear_Few Clouds   \n",
       "3  spring   0  January        0   Thursday           1  Clear_Few Clouds   \n",
       "4  spring   0  January        0     Friday           1  Clear_Few Clouds   \n",
       "\n",
       "        temp     atemp      hum  windspeed   cnt  \n",
       "0  14.110847  18.18125  80.5833  10.749882   985  \n",
       "1  14.902598  17.68695  69.6087  16.652113   801  \n",
       "2   8.050924   9.47025  43.7273  16.636703  1349  \n",
       "3   8.200000  10.60610  59.0435  10.739832  1562  \n",
       "4   9.305237  11.46350  43.6957  12.522300  1600  "
      ]
     },
     "execution_count": 12,
     "metadata": {},
     "output_type": "execute_result"
    }
   ],
   "source": [
    "# check the head of the dataset after mapping the categorical columns\n",
    "df1.head()"
   ]
  },
  {
   "cell_type": "markdown",
   "id": "a771c0cb",
   "metadata": {},
   "source": [
    "## Exploratory Data Analysis"
   ]
  },
  {
   "cell_type": "code",
   "execution_count": 13,
   "id": "08d1ff36",
   "metadata": {},
   "outputs": [
    {
     "data": {
      "text/plain": [
       "season          4\n",
       "yr              2\n",
       "mnth           12\n",
       "holiday         2\n",
       "weekday         7\n",
       "workingday      2\n",
       "weathersit      3\n",
       "temp          498\n",
       "atemp         689\n",
       "hum           594\n",
       "windspeed     649\n",
       "cnt           695\n",
       "dtype: int64"
      ]
     },
     "execution_count": 13,
     "metadata": {},
     "output_type": "execute_result"
    }
   ],
   "source": [
    "df1.nunique()"
   ]
  },
  {
   "cell_type": "code",
   "execution_count": 14,
   "id": "ca8e8d46",
   "metadata": {},
   "outputs": [
    {
     "data": {
      "text/plain": [
       "12"
      ]
     },
     "execution_count": 14,
     "metadata": {},
     "output_type": "execute_result"
    }
   ],
   "source": [
    "cat_cols=['season','yr','mnth','holiday','weekday','workingday','weathersit']\n",
    "cont_cols=['temp','atemp','hum','windspeed']\n",
    "target=['cnt']\n",
    "len(cat_cols)+len(cont_cols)+len(target)"
   ]
  },
  {
   "cell_type": "markdown",
   "id": "561e4c26",
   "metadata": {},
   "source": [
    "## Univariate Analysis"
   ]
  },
  {
   "cell_type": "code",
   "execution_count": 15,
   "id": "27df586f",
   "metadata": {},
   "outputs": [
    {
     "data": {
      "image/png": "[encoded data removed]",
      "text/plain": [
       "<Figure size 432x288 with 1 Axes>"
      ]
     },
     "metadata": {
      "needs_background": "light"
     },
     "output_type": "display_data"
    },
    {
     "data": {
      "image/png": "[encoded data removed]",
      "text/plain": [
       "<Figure size 432x288 with 1 Axes>"
      ]
     },
     "metadata": {
      "needs_background": "light"
     },
     "output_type": "display_data"
    },
    {
     "data": {
      "image/png": "[encoded data removed]",
      "text/plain": [
       "<Figure size 432x288 with 1 Axes>"
      ]
     },
     "metadata": {
      "needs_background": "light"
     },
     "output_type": "display_data"
    },
    {
     "data": {
      "image/png": "[encoded data removed]",
      "text/plain": [
       "<Figure size 432x288 with 1 Axes>"
      ]
     },
     "metadata": {
      "needs_background": "light"
     },
     "output_type": "display_data"
    }
   ],
   "source": [
    "for i in cont_cols:\n",
    "    sns.histplot(df1[i])\n",
    "    plt.show()"
   ]
  },
  {
   "cell_type": "code",
   "execution_count": 16,
   "id": "ac703c4f",
   "metadata": {},
   "outputs": [
    {
     "data": {
      "image/png": "[encoded data removed]",
      "text/plain": [
       "<Figure size 1440x2880 with 7 Axes>"
      ]
     },
     "metadata": {
      "needs_background": "light"
     },
     "output_type": "display_data"
    }
   ],
   "source": [
    "plt.figure(figsize = (20,40))\n",
    "i = 1\n",
    "for col in cat_cols:\n",
    "    plt.subplot(7,2,i)\n",
    "    sns.countplot(x = col , data = df1)\n",
    "    i += 1\n",
    "plt.show()"
   ]
  },
  {
   "cell_type": "markdown",
   "id": "c06d6ec5",
   "metadata": {},
   "source": [
    "## Bivariate Analysis"
   ]
  },
  {
   "cell_type": "code",
   "execution_count": 17,
   "id": "86456fa9",
   "metadata": {},
   "outputs": [
    {
     "data": {
      "image/png": "[encoded data removed]",
      "text/plain": [
       "<Figure size 1440x2880 with 7 Axes>"
      ]
     },
     "metadata": {
      "needs_background": "light"
     },
     "output_type": "display_data"
    }
   ],
   "source": [
    "plt.figure(figsize = (20,40))\n",
    "i = 1\n",
    "for col in cat_cols:\n",
    "    plt.subplot(7,2,i)\n",
    "    sns.boxplot(x = col ,y=\"cnt\", data = df1)\n",
    "    i += 1\n",
    "plt.show()"
   ]
  },
  {
   "cell_type": "code",
   "execution_count": 18,
   "id": "142f0a3a",
   "metadata": {},
   "outputs": [
    {
     "data": {
      "image/png": "[encoded data removed]",
      "text/plain": [
       "<Figure size 1080x2520 with 4 Axes>"
      ]
     },
     "metadata": {
      "needs_background": "light"
     },
     "output_type": "display_data"
    }
   ],
   "source": [
    "plt.figure(figsize = (15,35))\n",
    "i = 1\n",
    "for col in cont_cols:\n",
    "    plt.subplot(7,2,i)\n",
    "    sns.scatterplot(x = col ,y=\"cnt\", data = df1)\n",
    "    i += 1\n",
    "plt.show()"
   ]
  },
  {
   "cell_type": "markdown",
   "id": "4a923dc8",
   "metadata": {},
   "source": [
    "## Multrivate Analysis"
   ]
  },
  {
   "cell_type": "code",
   "execution_count": 19,
   "id": "6fc441da",
   "metadata": {},
   "outputs": [
    {
     "data": {
      "image/png": "[encoded data removed]",
      "text/plain": [
       "<Figure size 720x720 with 20 Axes>"
      ]
     },
     "metadata": {
      "needs_background": "light"
     },
     "output_type": "display_data"
    }
   ],
   "source": [
    "sns.pairplot(df1[cont_cols])\n",
    "plt.show()"
   ]
  },
  {
   "cell_type": "code",
   "execution_count": 20,
   "id": "f745d8ad",
   "metadata": {},
   "outputs": [
    {
     "data": {
      "image/png": "[encoded data removed]",
      "text/plain": [
       "<Figure size 720x360 with 2 Axes>"
      ]
     },
     "metadata": {
      "needs_background": "light"
     },
     "output_type": "display_data"
    }
   ],
   "source": [
    "plt.figure(figsize=(10,5))\n",
    "sns.heatmap(df1[cont_cols+[\"cnt\"]].corr(),annot=True)\n",
    "plt.show()"
   ]
  },
  {
   "cell_type": "markdown",
   "id": "920553b4",
   "metadata": {},
   "source": [
    "### Dummy Variable Creation"
   ]
  },
  {
   "cell_type": "code",
   "execution_count": 21,
   "id": "22924e10",
   "metadata": {},
   "outputs": [
    {
     "data": {
      "text/plain": [
       "season         4\n",
       "yr             2\n",
       "mnth          12\n",
       "holiday        2\n",
       "weekday        7\n",
       "workingday     2\n",
       "weathersit     3\n",
       "dtype: int64"
      ]
     },
     "execution_count": 21,
     "metadata": {},
     "output_type": "execute_result"
    }
   ],
   "source": [
    "# Only for non binary categorical columns\n",
    "df1[cat_cols].nunique()"
   ]
  },
  {
   "cell_type": "code",
   "execution_count": 22,
   "id": "3cf5e24f",
   "metadata": {},
   "outputs": [],
   "source": [
    "#Dummy variables for season, mnth, weekday, weathersit\n",
    "dum1=pd.get_dummies(df1.season,drop_first=True)\n",
    "dum2=pd.get_dummies(df1.mnth,drop_first=True)\n",
    "dum3=pd.get_dummies(df1.weekday,drop_first=True)\n",
    "dum4=pd.get_dummies(df1.weathersit,drop_first=True)"
   ]
  },
  {
   "cell_type": "code",
   "execution_count": 23,
   "id": "fd2a821b",
   "metadata": {},
   "outputs": [
    {
     "data": {
      "text/html": [
       "<div>\n",
       "<style scoped>\n",
       "    .dataframe tbody tr th:only-of-type {\n",
       "        vertical-align: middle;\n",
       "    }\n",
       "\n",
       "    .dataframe tbody tr th {\n",
       "        vertical-align: top;\n",
       "    }\n",
       "\n",
       "    .dataframe thead th {\n",
       "        text-align: right;\n",
       "    }\n",
       "</style>\n",
       "<table border=\"1\" class=\"dataframe\">\n",
       "  <thead>\n",
       "    <tr style=\"text-align: right;\">\n",
       "      <th></th>\n",
       "      <th>spring</th>\n",
       "      <th>summer</th>\n",
       "      <th>winter</th>\n",
       "      <th>August</th>\n",
       "      <th>December</th>\n",
       "      <th>Feburary</th>\n",
       "      <th>January</th>\n",
       "      <th>July</th>\n",
       "      <th>June</th>\n",
       "      <th>March</th>\n",
       "      <th>...</th>\n",
       "      <th>mnth</th>\n",
       "      <th>holiday</th>\n",
       "      <th>weekday</th>\n",
       "      <th>workingday</th>\n",
       "      <th>weathersit</th>\n",
       "      <th>temp</th>\n",
       "      <th>atemp</th>\n",
       "      <th>hum</th>\n",
       "      <th>windspeed</th>\n",
       "      <th>cnt</th>\n",
       "    </tr>\n",
       "  </thead>\n",
       "  <tbody>\n",
       "    <tr>\n",
       "      <th>0</th>\n",
       "      <td>1</td>\n",
       "      <td>0</td>\n",
       "      <td>0</td>\n",
       "      <td>0</td>\n",
       "      <td>0</td>\n",
       "      <td>0</td>\n",
       "      <td>1</td>\n",
       "      <td>0</td>\n",
       "      <td>0</td>\n",
       "      <td>0</td>\n",
       "      <td>...</td>\n",
       "      <td>January</td>\n",
       "      <td>0</td>\n",
       "      <td>Monday</td>\n",
       "      <td>1</td>\n",
       "      <td>Mist_cloudy</td>\n",
       "      <td>14.110847</td>\n",
       "      <td>18.18125</td>\n",
       "      <td>80.5833</td>\n",
       "      <td>10.749882</td>\n",
       "      <td>985</td>\n",
       "    </tr>\n",
       "    <tr>\n",
       "      <th>1</th>\n",
       "      <td>1</td>\n",
       "      <td>0</td>\n",
       "      <td>0</td>\n",
       "      <td>0</td>\n",
       "      <td>0</td>\n",
       "      <td>0</td>\n",
       "      <td>1</td>\n",
       "      <td>0</td>\n",
       "      <td>0</td>\n",
       "      <td>0</td>\n",
       "      <td>...</td>\n",
       "      <td>January</td>\n",
       "      <td>0</td>\n",
       "      <td>Tuesday</td>\n",
       "      <td>1</td>\n",
       "      <td>Mist_cloudy</td>\n",
       "      <td>14.902598</td>\n",
       "      <td>17.68695</td>\n",
       "      <td>69.6087</td>\n",
       "      <td>16.652113</td>\n",
       "      <td>801</td>\n",
       "    </tr>\n",
       "    <tr>\n",
       "      <th>2</th>\n",
       "      <td>1</td>\n",
       "      <td>0</td>\n",
       "      <td>0</td>\n",
       "      <td>0</td>\n",
       "      <td>0</td>\n",
       "      <td>0</td>\n",
       "      <td>1</td>\n",
       "      <td>0</td>\n",
       "      <td>0</td>\n",
       "      <td>0</td>\n",
       "      <td>...</td>\n",
       "      <td>January</td>\n",
       "      <td>0</td>\n",
       "      <td>Wednesday</td>\n",
       "      <td>1</td>\n",
       "      <td>Clear_Few Clouds</td>\n",
       "      <td>8.050924</td>\n",
       "      <td>9.47025</td>\n",
       "      <td>43.7273</td>\n",
       "      <td>16.636703</td>\n",
       "      <td>1349</td>\n",
       "    </tr>\n",
       "    <tr>\n",
       "      <th>3</th>\n",
       "      <td>1</td>\n",
       "      <td>0</td>\n",
       "      <td>0</td>\n",
       "      <td>0</td>\n",
       "      <td>0</td>\n",
       "      <td>0</td>\n",
       "      <td>1</td>\n",
       "      <td>0</td>\n",
       "      <td>0</td>\n",
       "      <td>0</td>\n",
       "      <td>...</td>\n",
       "      <td>January</td>\n",
       "      <td>0</td>\n",
       "      <td>Thursday</td>\n",
       "      <td>1</td>\n",
       "      <td>Clear_Few Clouds</td>\n",
       "      <td>8.200000</td>\n",
       "      <td>10.60610</td>\n",
       "      <td>59.0435</td>\n",
       "      <td>10.739832</td>\n",
       "      <td>1562</td>\n",
       "    </tr>\n",
       "    <tr>\n",
       "      <th>4</th>\n",
       "      <td>1</td>\n",
       "      <td>0</td>\n",
       "      <td>0</td>\n",
       "      <td>0</td>\n",
       "      <td>0</td>\n",
       "      <td>0</td>\n",
       "      <td>1</td>\n",
       "      <td>0</td>\n",
       "      <td>0</td>\n",
       "      <td>0</td>\n",
       "      <td>...</td>\n",
       "      <td>January</td>\n",
       "      <td>0</td>\n",
       "      <td>Friday</td>\n",
       "      <td>1</td>\n",
       "      <td>Clear_Few Clouds</td>\n",
       "      <td>9.305237</td>\n",
       "      <td>11.46350</td>\n",
       "      <td>43.6957</td>\n",
       "      <td>12.522300</td>\n",
       "      <td>1600</td>\n",
       "    </tr>\n",
       "  </tbody>\n",
       "</table>\n",
       "<p>5 rows × 34 columns</p>\n",
       "</div>"
      ],
      "text/plain": [
       "   spring  summer  winter  August  December  Feburary  January  July  June  \\\n",
       "0       1       0       0       0         0         0        1     0     0   \n",
       "1       1       0       0       0         0         0        1     0     0   \n",
       "2       1       0       0       0         0         0        1     0     0   \n",
       "3       1       0       0       0         0         0        1     0     0   \n",
       "4       1       0       0       0         0         0        1     0     0   \n",
       "\n",
       "   March  ...     mnth  holiday    weekday  workingday        weathersit  \\\n",
       "0      0  ...  January        0     Monday           1       Mist_cloudy   \n",
       "1      0  ...  January        0    Tuesday           1       Mist_cloudy   \n",
       "2      0  ...  January        0  Wednesday           1  Clear_Few Clouds   \n",
       "3      0  ...  January        0   Thursday           1  Clear_Few Clouds   \n",
       "4      0  ...  January        0     Friday           1  Clear_Few Clouds   \n",
       "\n",
       "        temp     atemp      hum  windspeed   cnt  \n",
       "0  14.110847  18.18125  80.5833  10.749882   985  \n",
       "1  14.902598  17.68695  69.6087  16.652113   801  \n",
       "2   8.050924   9.47025  43.7273  16.636703  1349  \n",
       "3   8.200000  10.60610  59.0435  10.739832  1562  \n",
       "4   9.305237  11.46350  43.6957  12.522300  1600  \n",
       "\n",
       "[5 rows x 34 columns]"
      ]
     },
     "execution_count": 23,
     "metadata": {},
     "output_type": "execute_result"
    }
   ],
   "source": [
    "# Combining the results to dataframe\n",
    "bike=pd.concat([dum1,dum2,dum3,dum4,df1],axis=1)\n",
    "bike.head()"
   ]
  },
  {
   "cell_type": "code",
   "execution_count": 24,
   "id": "e26dc5a8",
   "metadata": {},
   "outputs": [
    {
     "data": {
      "text/html": [
       "<div>\n",
       "<style scoped>\n",
       "    .dataframe tbody tr th:only-of-type {\n",
       "        vertical-align: middle;\n",
       "    }\n",
       "\n",
       "    .dataframe tbody tr th {\n",
       "        vertical-align: top;\n",
       "    }\n",
       "\n",
       "    .dataframe thead th {\n",
       "        text-align: right;\n",
       "    }\n",
       "</style>\n",
       "<table border=\"1\" class=\"dataframe\">\n",
       "  <thead>\n",
       "    <tr style=\"text-align: right;\">\n",
       "      <th></th>\n",
       "      <th>spring</th>\n",
       "      <th>summer</th>\n",
       "      <th>winter</th>\n",
       "      <th>August</th>\n",
       "      <th>December</th>\n",
       "      <th>Feburary</th>\n",
       "      <th>January</th>\n",
       "      <th>July</th>\n",
       "      <th>June</th>\n",
       "      <th>March</th>\n",
       "      <th>...</th>\n",
       "      <th>Light rain_Light snow_Thunderstorm</th>\n",
       "      <th>Mist_cloudy</th>\n",
       "      <th>yr</th>\n",
       "      <th>holiday</th>\n",
       "      <th>workingday</th>\n",
       "      <th>temp</th>\n",
       "      <th>atemp</th>\n",
       "      <th>hum</th>\n",
       "      <th>windspeed</th>\n",
       "      <th>cnt</th>\n",
       "    </tr>\n",
       "  </thead>\n",
       "  <tbody>\n",
       "    <tr>\n",
       "      <th>0</th>\n",
       "      <td>1</td>\n",
       "      <td>0</td>\n",
       "      <td>0</td>\n",
       "      <td>0</td>\n",
       "      <td>0</td>\n",
       "      <td>0</td>\n",
       "      <td>1</td>\n",
       "      <td>0</td>\n",
       "      <td>0</td>\n",
       "      <td>0</td>\n",
       "      <td>...</td>\n",
       "      <td>0</td>\n",
       "      <td>1</td>\n",
       "      <td>0</td>\n",
       "      <td>0</td>\n",
       "      <td>1</td>\n",
       "      <td>14.110847</td>\n",
       "      <td>18.18125</td>\n",
       "      <td>80.5833</td>\n",
       "      <td>10.749882</td>\n",
       "      <td>985</td>\n",
       "    </tr>\n",
       "    <tr>\n",
       "      <th>1</th>\n",
       "      <td>1</td>\n",
       "      <td>0</td>\n",
       "      <td>0</td>\n",
       "      <td>0</td>\n",
       "      <td>0</td>\n",
       "      <td>0</td>\n",
       "      <td>1</td>\n",
       "      <td>0</td>\n",
       "      <td>0</td>\n",
       "      <td>0</td>\n",
       "      <td>...</td>\n",
       "      <td>0</td>\n",
       "      <td>1</td>\n",
       "      <td>0</td>\n",
       "      <td>0</td>\n",
       "      <td>1</td>\n",
       "      <td>14.902598</td>\n",
       "      <td>17.68695</td>\n",
       "      <td>69.6087</td>\n",
       "      <td>16.652113</td>\n",
       "      <td>801</td>\n",
       "    </tr>\n",
       "    <tr>\n",
       "      <th>2</th>\n",
       "      <td>1</td>\n",
       "      <td>0</td>\n",
       "      <td>0</td>\n",
       "      <td>0</td>\n",
       "      <td>0</td>\n",
       "      <td>0</td>\n",
       "      <td>1</td>\n",
       "      <td>0</td>\n",
       "      <td>0</td>\n",
       "      <td>0</td>\n",
       "      <td>...</td>\n",
       "      <td>0</td>\n",
       "      <td>0</td>\n",
       "      <td>0</td>\n",
       "      <td>0</td>\n",
       "      <td>1</td>\n",
       "      <td>8.050924</td>\n",
       "      <td>9.47025</td>\n",
       "      <td>43.7273</td>\n",
       "      <td>16.636703</td>\n",
       "      <td>1349</td>\n",
       "    </tr>\n",
       "    <tr>\n",
       "      <th>3</th>\n",
       "      <td>1</td>\n",
       "      <td>0</td>\n",
       "      <td>0</td>\n",
       "      <td>0</td>\n",
       "      <td>0</td>\n",
       "      <td>0</td>\n",
       "      <td>1</td>\n",
       "      <td>0</td>\n",
       "      <td>0</td>\n",
       "      <td>0</td>\n",
       "      <td>...</td>\n",
       "      <td>0</td>\n",
       "      <td>0</td>\n",
       "      <td>0</td>\n",
       "      <td>0</td>\n",
       "      <td>1</td>\n",
       "      <td>8.200000</td>\n",
       "      <td>10.60610</td>\n",
       "      <td>59.0435</td>\n",
       "      <td>10.739832</td>\n",
       "      <td>1562</td>\n",
       "    </tr>\n",
       "    <tr>\n",
       "      <th>4</th>\n",
       "      <td>1</td>\n",
       "      <td>0</td>\n",
       "      <td>0</td>\n",
       "      <td>0</td>\n",
       "      <td>0</td>\n",
       "      <td>0</td>\n",
       "      <td>1</td>\n",
       "      <td>0</td>\n",
       "      <td>0</td>\n",
       "      <td>0</td>\n",
       "      <td>...</td>\n",
       "      <td>0</td>\n",
       "      <td>0</td>\n",
       "      <td>0</td>\n",
       "      <td>0</td>\n",
       "      <td>1</td>\n",
       "      <td>9.305237</td>\n",
       "      <td>11.46350</td>\n",
       "      <td>43.6957</td>\n",
       "      <td>12.522300</td>\n",
       "      <td>1600</td>\n",
       "    </tr>\n",
       "  </tbody>\n",
       "</table>\n",
       "<p>5 rows × 30 columns</p>\n",
       "</div>"
      ],
      "text/plain": [
       "   spring  summer  winter  August  December  Feburary  January  July  June  \\\n",
       "0       1       0       0       0         0         0        1     0     0   \n",
       "1       1       0       0       0         0         0        1     0     0   \n",
       "2       1       0       0       0         0         0        1     0     0   \n",
       "3       1       0       0       0         0         0        1     0     0   \n",
       "4       1       0       0       0         0         0        1     0     0   \n",
       "\n",
       "   March  ...  Light rain_Light snow_Thunderstorm  Mist_cloudy  yr  holiday  \\\n",
       "0      0  ...                                   0            1   0        0   \n",
       "1      0  ...                                   0            1   0        0   \n",
       "2      0  ...                                   0            0   0        0   \n",
       "3      0  ...                                   0            0   0        0   \n",
       "4      0  ...                                   0            0   0        0   \n",
       "\n",
       "   workingday       temp     atemp      hum  windspeed   cnt  \n",
       "0           1  14.110847  18.18125  80.5833  10.749882   985  \n",
       "1           1  14.902598  17.68695  69.6087  16.652113   801  \n",
       "2           1   8.050924   9.47025  43.7273  16.636703  1349  \n",
       "3           1   8.200000  10.60610  59.0435  10.739832  1562  \n",
       "4           1   9.305237  11.46350  43.6957  12.522300  1600  \n",
       "\n",
       "[5 rows x 30 columns]"
      ]
     },
     "execution_count": 24,
     "metadata": {},
     "output_type": "execute_result"
    }
   ],
   "source": [
    "# Drop 'season','mnth','weekday','weathersit' \n",
    "bike.drop(['season','mnth','weekday','weathersit'],axis=1,inplace=True)\n",
    "bike.head()"
   ]
  },
  {
   "cell_type": "markdown",
   "id": "309f9ee5",
   "metadata": {},
   "source": [
    "## Train Test Split"
   ]
  },
  {
   "cell_type": "code",
   "execution_count": 25,
   "id": "a07ce05b",
   "metadata": {},
   "outputs": [],
   "source": [
    "x=bike.drop([\"cnt\"],axis=1)\n",
    "y=bike[\"cnt\"]"
   ]
  },
  {
   "cell_type": "code",
   "execution_count": 26,
   "id": "28565497",
   "metadata": {},
   "outputs": [],
   "source": [
    "x_train,x_test,y_train,y_test=train_test_split(x,y,test_size=0.3,random_state=100)"
   ]
  },
  {
   "cell_type": "code",
   "execution_count": 27,
   "id": "79d4f620",
   "metadata": {},
   "outputs": [
    {
     "data": {
      "text/plain": [
       "(511, 29)"
      ]
     },
     "execution_count": 27,
     "metadata": {},
     "output_type": "execute_result"
    }
   ],
   "source": [
    "x_train.shape"
   ]
  },
  {
   "cell_type": "code",
   "execution_count": 28,
   "id": "61662ecd",
   "metadata": {},
   "outputs": [
    {
     "data": {
      "text/plain": [
       "(219, 29)"
      ]
     },
     "execution_count": 28,
     "metadata": {},
     "output_type": "execute_result"
    }
   ],
   "source": [
    "x_test.shape"
   ]
  },
  {
   "cell_type": "markdown",
   "id": "4a99760c",
   "metadata": {},
   "source": [
    "## Scaling"
   ]
  },
  {
   "cell_type": "code",
   "execution_count": 29,
   "id": "c5b9a2a2",
   "metadata": {},
   "outputs": [],
   "source": [
    "#Instantiate an object\n",
    "scaler = MinMaxScaler()"
   ]
  },
  {
   "cell_type": "code",
   "execution_count": 30,
   "id": "0c4fe07f",
   "metadata": {},
   "outputs": [
    {
     "data": {
      "text/html": [
       "<div>\n",
       "<style scoped>\n",
       "    .dataframe tbody tr th:only-of-type {\n",
       "        vertical-align: middle;\n",
       "    }\n",
       "\n",
       "    .dataframe tbody tr th {\n",
       "        vertical-align: top;\n",
       "    }\n",
       "\n",
       "    .dataframe thead th {\n",
       "        text-align: right;\n",
       "    }\n",
       "</style>\n",
       "<table border=\"1\" class=\"dataframe\">\n",
       "  <thead>\n",
       "    <tr style=\"text-align: right;\">\n",
       "      <th></th>\n",
       "      <th>spring</th>\n",
       "      <th>summer</th>\n",
       "      <th>winter</th>\n",
       "      <th>August</th>\n",
       "      <th>December</th>\n",
       "      <th>Feburary</th>\n",
       "      <th>January</th>\n",
       "      <th>July</th>\n",
       "      <th>June</th>\n",
       "      <th>March</th>\n",
       "      <th>...</th>\n",
       "      <th>Wednesday</th>\n",
       "      <th>Light rain_Light snow_Thunderstorm</th>\n",
       "      <th>Mist_cloudy</th>\n",
       "      <th>yr</th>\n",
       "      <th>holiday</th>\n",
       "      <th>workingday</th>\n",
       "      <th>temp</th>\n",
       "      <th>atemp</th>\n",
       "      <th>hum</th>\n",
       "      <th>windspeed</th>\n",
       "    </tr>\n",
       "  </thead>\n",
       "  <tbody>\n",
       "    <tr>\n",
       "      <th>653</th>\n",
       "      <td>0</td>\n",
       "      <td>0</td>\n",
       "      <td>1</td>\n",
       "      <td>0</td>\n",
       "      <td>0</td>\n",
       "      <td>0</td>\n",
       "      <td>0</td>\n",
       "      <td>0</td>\n",
       "      <td>0</td>\n",
       "      <td>0</td>\n",
       "      <td>...</td>\n",
       "      <td>1</td>\n",
       "      <td>0</td>\n",
       "      <td>0</td>\n",
       "      <td>1</td>\n",
       "      <td>0</td>\n",
       "      <td>1</td>\n",
       "      <td>0.509887</td>\n",
       "      <td>0.501133</td>\n",
       "      <td>0.575354</td>\n",
       "      <td>0.300794</td>\n",
       "    </tr>\n",
       "    <tr>\n",
       "      <th>576</th>\n",
       "      <td>0</td>\n",
       "      <td>0</td>\n",
       "      <td>0</td>\n",
       "      <td>0</td>\n",
       "      <td>0</td>\n",
       "      <td>0</td>\n",
       "      <td>0</td>\n",
       "      <td>1</td>\n",
       "      <td>0</td>\n",
       "      <td>0</td>\n",
       "      <td>...</td>\n",
       "      <td>1</td>\n",
       "      <td>0</td>\n",
       "      <td>0</td>\n",
       "      <td>1</td>\n",
       "      <td>0</td>\n",
       "      <td>1</td>\n",
       "      <td>0.815169</td>\n",
       "      <td>0.766351</td>\n",
       "      <td>0.725633</td>\n",
       "      <td>0.264686</td>\n",
       "    </tr>\n",
       "    <tr>\n",
       "      <th>426</th>\n",
       "      <td>1</td>\n",
       "      <td>0</td>\n",
       "      <td>0</td>\n",
       "      <td>0</td>\n",
       "      <td>0</td>\n",
       "      <td>0</td>\n",
       "      <td>0</td>\n",
       "      <td>0</td>\n",
       "      <td>0</td>\n",
       "      <td>1</td>\n",
       "      <td>...</td>\n",
       "      <td>0</td>\n",
       "      <td>0</td>\n",
       "      <td>1</td>\n",
       "      <td>1</td>\n",
       "      <td>0</td>\n",
       "      <td>0</td>\n",
       "      <td>0.442393</td>\n",
       "      <td>0.438975</td>\n",
       "      <td>0.640189</td>\n",
       "      <td>0.255342</td>\n",
       "    </tr>\n",
       "    <tr>\n",
       "      <th>728</th>\n",
       "      <td>1</td>\n",
       "      <td>0</td>\n",
       "      <td>0</td>\n",
       "      <td>0</td>\n",
       "      <td>1</td>\n",
       "      <td>0</td>\n",
       "      <td>0</td>\n",
       "      <td>0</td>\n",
       "      <td>0</td>\n",
       "      <td>0</td>\n",
       "      <td>...</td>\n",
       "      <td>0</td>\n",
       "      <td>0</td>\n",
       "      <td>0</td>\n",
       "      <td>1</td>\n",
       "      <td>0</td>\n",
       "      <td>1</td>\n",
       "      <td>0.245101</td>\n",
       "      <td>0.200348</td>\n",
       "      <td>0.498067</td>\n",
       "      <td>0.663106</td>\n",
       "    </tr>\n",
       "    <tr>\n",
       "      <th>482</th>\n",
       "      <td>0</td>\n",
       "      <td>1</td>\n",
       "      <td>0</td>\n",
       "      <td>0</td>\n",
       "      <td>0</td>\n",
       "      <td>0</td>\n",
       "      <td>0</td>\n",
       "      <td>0</td>\n",
       "      <td>0</td>\n",
       "      <td>0</td>\n",
       "      <td>...</td>\n",
       "      <td>0</td>\n",
       "      <td>0</td>\n",
       "      <td>1</td>\n",
       "      <td>1</td>\n",
       "      <td>0</td>\n",
       "      <td>0</td>\n",
       "      <td>0.395666</td>\n",
       "      <td>0.391735</td>\n",
       "      <td>0.504508</td>\n",
       "      <td>0.188475</td>\n",
       "    </tr>\n",
       "  </tbody>\n",
       "</table>\n",
       "<p>5 rows × 29 columns</p>\n",
       "</div>"
      ],
      "text/plain": [
       "     spring  summer  winter  August  December  Feburary  January  July  June  \\\n",
       "653       0       0       1       0         0         0        0     0     0   \n",
       "576       0       0       0       0         0         0        0     1     0   \n",
       "426       1       0       0       0         0         0        0     0     0   \n",
       "728       1       0       0       0         1         0        0     0     0   \n",
       "482       0       1       0       0         0         0        0     0     0   \n",
       "\n",
       "     March  ...  Wednesday  Light rain_Light snow_Thunderstorm  Mist_cloudy  \\\n",
       "653      0  ...          1                                   0            0   \n",
       "576      0  ...          1                                   0            0   \n",
       "426      1  ...          0                                   0            1   \n",
       "728      0  ...          0                                   0            0   \n",
       "482      0  ...          0                                   0            1   \n",
       "\n",
       "     yr  holiday  workingday      temp     atemp       hum  windspeed  \n",
       "653   1        0           1  0.509887  0.501133  0.575354   0.300794  \n",
       "576   1        0           1  0.815169  0.766351  0.725633   0.264686  \n",
       "426   1        0           0  0.442393  0.438975  0.640189   0.255342  \n",
       "728   1        0           1  0.245101  0.200348  0.498067   0.663106  \n",
       "482   1        0           0  0.395666  0.391735  0.504508   0.188475  \n",
       "\n",
       "[5 rows x 29 columns]"
      ]
     },
     "execution_count": 30,
     "metadata": {},
     "output_type": "execute_result"
    }
   ],
   "source": [
    "x_train[cont_cols] = scaler.fit_transform(x_train[cont_cols])\n",
    "x_train.head()"
   ]
  },
  {
   "cell_type": "code",
   "execution_count": 31,
   "id": "7945d989",
   "metadata": {},
   "outputs": [],
   "source": [
    "x_test[cont_cols] = scaler.fit_transform(x_test[cont_cols])"
   ]
  },
  {
   "cell_type": "markdown",
   "id": "ad6530a4",
   "metadata": {},
   "source": [
    "## Modelling"
   ]
  },
  {
   "cell_type": "markdown",
   "id": "2197879a",
   "metadata": {},
   "source": [
    "### Feature Selection - Recursive Feature Eimination"
   ]
  },
  {
   "cell_type": "code",
   "execution_count": 32,
   "id": "c674c883",
   "metadata": {},
   "outputs": [
    {
     "data": {
      "text/plain": [
       "['spring',\n",
       " 'summer',\n",
       " 'winter',\n",
       " 'December',\n",
       " 'January',\n",
       " 'July',\n",
       " 'November',\n",
       " 'September',\n",
       " 'Light rain_Light snow_Thunderstorm',\n",
       " 'Mist_cloudy',\n",
       " 'yr',\n",
       " 'holiday',\n",
       " 'temp',\n",
       " 'hum',\n",
       " 'windspeed']"
      ]
     },
     "execution_count": 32,
     "metadata": {},
     "output_type": "execute_result"
    }
   ],
   "source": [
    "estimator=LinearRegression()\n",
    "selector=RFE(estimator,n_features_to_select=15)\n",
    "\n",
    "selector=selector.fit(x_train,y_train)\n",
    "selected_features=list(x_train.columns[selector.support_])\n",
    "selected_features"
   ]
  },
  {
   "cell_type": "code",
   "execution_count": 33,
   "id": "e6465254",
   "metadata": {},
   "outputs": [],
   "source": [
    "x_train=x_train[selected_features]\n",
    "x_test=x_test[selected_features]"
   ]
  },
  {
   "cell_type": "code",
   "execution_count": 34,
   "id": "b7bb2873",
   "metadata": {},
   "outputs": [],
   "source": [
    "x_train_sm=sm.add_constant(x_train)\n",
    "x_test_sm=sm.add_constant(x_test)"
   ]
  },
  {
   "cell_type": "code",
   "execution_count": 35,
   "id": "e74269fb",
   "metadata": {},
   "outputs": [
    {
     "data": {
      "text/html": [
       "<table class=\"simpletable\">\n",
       "<caption>OLS Regression Results</caption>\n",
       "<tr>\n",
       "  <th>Dep. Variable:</th>           <td>cnt</td>       <th>  R-squared:         </th> <td>   0.845</td> \n",
       "</tr>\n",
       "<tr>\n",
       "  <th>Model:</th>                   <td>OLS</td>       <th>  Adj. R-squared:    </th> <td>   0.840</td> \n",
       "</tr>\n",
       "<tr>\n",
       "  <th>Method:</th>             <td>Least Squares</td>  <th>  F-statistic:       </th> <td>   180.1</td> \n",
       "</tr>\n",
       "<tr>\n",
       "  <th>Date:</th>             <td>Thu, 27 Apr 2023</td> <th>  Prob (F-statistic):</th> <td>2.29e-189</td>\n",
       "</tr>\n",
       "<tr>\n",
       "  <th>Time:</th>                 <td>21:20:17</td>     <th>  Log-Likelihood:    </th> <td> -4120.0</td> \n",
       "</tr>\n",
       "<tr>\n",
       "  <th>No. Observations:</th>      <td>   511</td>      <th>  AIC:               </th> <td>   8272.</td> \n",
       "</tr>\n",
       "<tr>\n",
       "  <th>Df Residuals:</th>          <td>   495</td>      <th>  BIC:               </th> <td>   8340.</td> \n",
       "</tr>\n",
       "<tr>\n",
       "  <th>Df Model:</th>              <td>    15</td>      <th>                     </th>     <td> </td>    \n",
       "</tr>\n",
       "<tr>\n",
       "  <th>Covariance Type:</th>      <td>nonrobust</td>    <th>                     </th>     <td> </td>    \n",
       "</tr>\n",
       "</table>\n",
       "<table class=\"simpletable\">\n",
       "<tr>\n",
       "                   <td></td>                     <th>coef</th>     <th>std err</th>      <th>t</th>      <th>P>|t|</th>  <th>[0.025</th>    <th>0.975]</th>  \n",
       "</tr>\n",
       "<tr>\n",
       "  <th>const</th>                              <td> 2809.0469</td> <td>  313.778</td> <td>    8.952</td> <td> 0.000</td> <td> 2192.546</td> <td> 3425.548</td>\n",
       "</tr>\n",
       "<tr>\n",
       "  <th>spring</th>                             <td> -534.0919</td> <td>  184.906</td> <td>   -2.888</td> <td> 0.004</td> <td> -897.389</td> <td> -170.795</td>\n",
       "</tr>\n",
       "<tr>\n",
       "  <th>summer</th>                             <td>  365.5827</td> <td>  133.337</td> <td>    2.742</td> <td> 0.006</td> <td>  103.606</td> <td>  627.559</td>\n",
       "</tr>\n",
       "<tr>\n",
       "  <th>winter</th>                             <td>  901.2578</td> <td>  156.273</td> <td>    5.767</td> <td> 0.000</td> <td>  594.218</td> <td> 1208.298</td>\n",
       "</tr>\n",
       "<tr>\n",
       "  <th>December</th>                           <td> -321.7058</td> <td>  151.999</td> <td>   -2.117</td> <td> 0.035</td> <td> -620.348</td> <td>  -23.064</td>\n",
       "</tr>\n",
       "<tr>\n",
       "  <th>January</th>                            <td> -379.9440</td> <td>  157.756</td> <td>   -2.408</td> <td> 0.016</td> <td> -689.898</td> <td>  -69.990</td>\n",
       "</tr>\n",
       "<tr>\n",
       "  <th>July</th>                               <td> -482.0634</td> <td>  158.609</td> <td>   -3.039</td> <td> 0.002</td> <td> -793.694</td> <td> -170.433</td>\n",
       "</tr>\n",
       "<tr>\n",
       "  <th>November</th>                           <td> -354.9171</td> <td>  163.025</td> <td>   -2.177</td> <td> 0.030</td> <td> -675.224</td> <td>  -34.610</td>\n",
       "</tr>\n",
       "<tr>\n",
       "  <th>September</th>                          <td>  651.4485</td> <td>  146.931</td> <td>    4.434</td> <td> 0.000</td> <td>  362.762</td> <td>  940.134</td>\n",
       "</tr>\n",
       "<tr>\n",
       "  <th>Light rain_Light snow_Thunderstorm</th> <td>-2148.1723</td> <td>  229.722</td> <td>   -9.351</td> <td> 0.000</td> <td>-2599.522</td> <td>-1696.823</td>\n",
       "</tr>\n",
       "<tr>\n",
       "  <th>Mist_cloudy</th>                        <td> -474.7881</td> <td>   90.897</td> <td>   -5.223</td> <td> 0.000</td> <td> -653.380</td> <td> -296.196</td>\n",
       "</tr>\n",
       "<tr>\n",
       "  <th>yr</th>                                 <td> 2006.3312</td> <td>   70.290</td> <td>   28.543</td> <td> 0.000</td> <td> 1868.227</td> <td> 2144.435</td>\n",
       "</tr>\n",
       "<tr>\n",
       "  <th>holiday</th>                            <td> -792.5658</td> <td>  222.754</td> <td>   -3.558</td> <td> 0.000</td> <td>-1230.225</td> <td> -354.906</td>\n",
       "</tr>\n",
       "<tr>\n",
       "  <th>temp</th>                               <td> 4180.0645</td> <td>  321.999</td> <td>   12.982</td> <td> 0.000</td> <td> 3547.412</td> <td> 4812.718</td>\n",
       "</tr>\n",
       "<tr>\n",
       "  <th>hum</th>                                <td>-1415.4079</td> <td>  328.746</td> <td>   -4.305</td> <td> 0.000</td> <td>-2061.317</td> <td> -769.498</td>\n",
       "</tr>\n",
       "<tr>\n",
       "  <th>windspeed</th>                          <td>-1641.1944</td> <td>  224.403</td> <td>   -7.314</td> <td> 0.000</td> <td>-2082.094</td> <td>-1200.295</td>\n",
       "</tr>\n",
       "</table>\n",
       "<table class=\"simpletable\">\n",
       "<tr>\n",
       "  <th>Omnibus:</th>       <td>67.308</td> <th>  Durbin-Watson:     </th> <td>   2.017</td>\n",
       "</tr>\n",
       "<tr>\n",
       "  <th>Prob(Omnibus):</th> <td> 0.000</td> <th>  Jarque-Bera (JB):  </th> <td> 162.984</td>\n",
       "</tr>\n",
       "<tr>\n",
       "  <th>Skew:</th>          <td>-0.686</td> <th>  Prob(JB):          </th> <td>4.06e-36</td>\n",
       "</tr>\n",
       "<tr>\n",
       "  <th>Kurtosis:</th>      <td> 5.402</td> <th>  Cond. No.          </th> <td>    20.8</td>\n",
       "</tr>\n",
       "</table><br/><br/>Notes:<br/>[1] Standard Errors assume that the covariance matrix of the errors is correctly specified."
      ],
      "text/plain": [
       "<class 'statsmodels.iolib.summary.Summary'>\n",
       "\"\"\"\n",
       "                            OLS Regression Results                            \n",
       "==============================================================================\n",
       "Dep. Variable:                    cnt   R-squared:                       0.845\n",
       "Model:                            OLS   Adj. R-squared:                  0.840\n",
       "Method:                 Least Squares   F-statistic:                     180.1\n",
       "Date:                Thu, 27 Apr 2023   Prob (F-statistic):          2.29e-189\n",
       "Time:                        21:20:17   Log-Likelihood:                -4120.0\n",
       "No. Observations:                 511   AIC:                             8272.\n",
       "Df Residuals:                     495   BIC:                             8340.\n",
       "Df Model:                          15                                         \n",
       "Covariance Type:            nonrobust                                         \n",
       "======================================================================================================\n",
       "                                         coef    std err          t      P>|t|      [0.025      0.975]\n",
       "------------------------------------------------------------------------------------------------------\n",
       "const                               2809.0469    313.778      8.952      0.000    2192.546    3425.548\n",
       "spring                              -534.0919    184.906     -2.888      0.004    -897.389    -170.795\n",
       "summer                               365.5827    133.337      2.742      0.006     103.606     627.559\n",
       "winter                               901.2578    156.273      5.767      0.000     594.218    1208.298\n",
       "December                            -321.7058    151.999     -2.117      0.035    -620.348     -23.064\n",
       "January                             -379.9440    157.756     -2.408      0.016    -689.898     -69.990\n",
       "July                                -482.0634    158.609     -3.039      0.002    -793.694    -170.433\n",
       "November                            -354.9171    163.025     -2.177      0.030    -675.224     -34.610\n",
       "September                            651.4485    146.931      4.434      0.000     362.762     940.134\n",
       "Light rain_Light snow_Thunderstorm -2148.1723    229.722     -9.351      0.000   -2599.522   -1696.823\n",
       "Mist_cloudy                         -474.7881     90.897     -5.223      0.000    -653.380    -296.196\n",
       "yr                                  2006.3312     70.290     28.543      0.000    1868.227    2144.435\n",
       "holiday                             -792.5658    222.754     -3.558      0.000   -1230.225    -354.906\n",
       "temp                                4180.0645    321.999     12.982      0.000    3547.412    4812.718\n",
       "hum                                -1415.4079    328.746     -4.305      0.000   -2061.317    -769.498\n",
       "windspeed                          -1641.1944    224.403     -7.314      0.000   -2082.094   -1200.295\n",
       "==============================================================================\n",
       "Omnibus:                       67.308   Durbin-Watson:                   2.017\n",
       "Prob(Omnibus):                  0.000   Jarque-Bera (JB):              162.984\n",
       "Skew:                          -0.686   Prob(JB):                     4.06e-36\n",
       "Kurtosis:                       5.402   Cond. No.                         20.8\n",
       "==============================================================================\n",
       "\n",
       "Notes:\n",
       "[1] Standard Errors assume that the covariance matrix of the errors is correctly specified.\n",
       "\"\"\""
      ]
     },
     "execution_count": 35,
     "metadata": {},
     "output_type": "execute_result"
    }
   ],
   "source": [
    "model1=sm.OLS(y_train,x_train_sm)\n",
    "res1=model1.fit()\n",
    "res1.summary()"
   ]
  },
  {
   "cell_type": "markdown",
   "id": "73954429",
   "metadata": {},
   "source": [
    "## Variance Inflation Factor"
   ]
  },
  {
   "cell_type": "code",
   "execution_count": 36,
   "id": "78f28ac6",
   "metadata": {},
   "outputs": [],
   "source": [
    "# Generic function to calculate VIF of variables\n",
    "\n",
    "def cal_VIF(df):\n",
    "    vif = pd.DataFrame()\n",
    "    vif['Features'] = df.columns\n",
    "    vif['VIF'] = [variance_inflation_factor(df.values, i) for i in range(df.shape[1])]\n",
    "    vif['VIF'] = round(vif['VIF'], 2)\n",
    "    vif = vif.sort_values(by = \"VIF\", ascending = False)\n",
    "    return vif "
   ]
  },
  {
   "cell_type": "code",
   "execution_count": 37,
   "id": "dd540817",
   "metadata": {},
   "outputs": [
    {
     "data": {
      "text/html": [
       "<div>\n",
       "<style scoped>\n",
       "    .dataframe tbody tr th:only-of-type {\n",
       "        vertical-align: middle;\n",
       "    }\n",
       "\n",
       "    .dataframe tbody tr th {\n",
       "        vertical-align: top;\n",
       "    }\n",
       "\n",
       "    .dataframe thead th {\n",
       "        text-align: right;\n",
       "    }\n",
       "</style>\n",
       "<table border=\"1\" class=\"dataframe\">\n",
       "  <thead>\n",
       "    <tr style=\"text-align: right;\">\n",
       "      <th></th>\n",
       "      <th>Features</th>\n",
       "      <th>VIF</th>\n",
       "    </tr>\n",
       "  </thead>\n",
       "  <tbody>\n",
       "    <tr>\n",
       "      <th>13</th>\n",
       "      <td>hum</td>\n",
       "      <td>30.93</td>\n",
       "    </tr>\n",
       "    <tr>\n",
       "      <th>12</th>\n",
       "      <td>temp</td>\n",
       "      <td>17.82</td>\n",
       "    </tr>\n",
       "    <tr>\n",
       "      <th>14</th>\n",
       "      <td>windspeed</td>\n",
       "      <td>4.73</td>\n",
       "    </tr>\n",
       "    <tr>\n",
       "      <th>0</th>\n",
       "      <td>spring</td>\n",
       "      <td>4.37</td>\n",
       "    </tr>\n",
       "    <tr>\n",
       "      <th>2</th>\n",
       "      <td>winter</td>\n",
       "      <td>4.06</td>\n",
       "    </tr>\n",
       "    <tr>\n",
       "      <th>1</th>\n",
       "      <td>summer</td>\n",
       "      <td>2.82</td>\n",
       "    </tr>\n",
       "    <tr>\n",
       "      <th>9</th>\n",
       "      <td>Mist_cloudy</td>\n",
       "      <td>2.32</td>\n",
       "    </tr>\n",
       "    <tr>\n",
       "      <th>10</th>\n",
       "      <td>yr</td>\n",
       "      <td>2.09</td>\n",
       "    </tr>\n",
       "    <tr>\n",
       "      <th>6</th>\n",
       "      <td>November</td>\n",
       "      <td>1.83</td>\n",
       "    </tr>\n",
       "    <tr>\n",
       "      <th>4</th>\n",
       "      <td>January</td>\n",
       "      <td>1.75</td>\n",
       "    </tr>\n",
       "    <tr>\n",
       "      <th>5</th>\n",
       "      <td>July</td>\n",
       "      <td>1.59</td>\n",
       "    </tr>\n",
       "    <tr>\n",
       "      <th>3</th>\n",
       "      <td>December</td>\n",
       "      <td>1.55</td>\n",
       "    </tr>\n",
       "    <tr>\n",
       "      <th>7</th>\n",
       "      <td>September</td>\n",
       "      <td>1.41</td>\n",
       "    </tr>\n",
       "    <tr>\n",
       "      <th>8</th>\n",
       "      <td>Light rain_Light snow_Thunderstorm</td>\n",
       "      <td>1.28</td>\n",
       "    </tr>\n",
       "    <tr>\n",
       "      <th>11</th>\n",
       "      <td>holiday</td>\n",
       "      <td>1.06</td>\n",
       "    </tr>\n",
       "  </tbody>\n",
       "</table>\n",
       "</div>"
      ],
      "text/plain": [
       "                              Features    VIF\n",
       "13                                 hum  30.93\n",
       "12                                temp  17.82\n",
       "14                           windspeed   4.73\n",
       "0                               spring   4.37\n",
       "2                               winter   4.06\n",
       "1                               summer   2.82\n",
       "9                          Mist_cloudy   2.32\n",
       "10                                  yr   2.09\n",
       "6                             November   1.83\n",
       "4                              January   1.75\n",
       "5                                 July   1.59\n",
       "3                             December   1.55\n",
       "7                            September   1.41\n",
       "8   Light rain_Light snow_Thunderstorm   1.28\n",
       "11                             holiday   1.06"
      ]
     },
     "execution_count": 37,
     "metadata": {},
     "output_type": "execute_result"
    }
   ],
   "source": [
    "cal_VIF(x_train)"
   ]
  },
  {
   "cell_type": "code",
   "execution_count": 38,
   "id": "1512d6da",
   "metadata": {},
   "outputs": [],
   "source": [
    "x_train=x_train.drop([\"hum\"],axis=1)\n",
    "x_test=x_test.drop([\"hum\"],axis=1)"
   ]
  },
  {
   "cell_type": "code",
   "execution_count": 39,
   "id": "5a412b37",
   "metadata": {},
   "outputs": [],
   "source": [
    "x_train_sm=sm.add_constant(x_train)\n",
    "x_test_sm=sm.add_constant(x_test)"
   ]
  },
  {
   "cell_type": "code",
   "execution_count": 40,
   "id": "ae299e7a",
   "metadata": {},
   "outputs": [
    {
     "data": {
      "text/html": [
       "<table class=\"simpletable\">\n",
       "<caption>OLS Regression Results</caption>\n",
       "<tr>\n",
       "  <th>Dep. Variable:</th>           <td>cnt</td>       <th>  R-squared:         </th> <td>   0.839</td> \n",
       "</tr>\n",
       "<tr>\n",
       "  <th>Model:</th>                   <td>OLS</td>       <th>  Adj. R-squared:    </th> <td>   0.835</td> \n",
       "</tr>\n",
       "<tr>\n",
       "  <th>Method:</th>             <td>Least Squares</td>  <th>  F-statistic:       </th> <td>   185.1</td> \n",
       "</tr>\n",
       "<tr>\n",
       "  <th>Date:</th>             <td>Thu, 27 Apr 2023</td> <th>  Prob (F-statistic):</th> <td>1.41e-186</td>\n",
       "</tr>\n",
       "<tr>\n",
       "  <th>Time:</th>                 <td>21:20:17</td>     <th>  Log-Likelihood:    </th> <td> -4129.4</td> \n",
       "</tr>\n",
       "<tr>\n",
       "  <th>No. Observations:</th>      <td>   511</td>      <th>  AIC:               </th> <td>   8289.</td> \n",
       "</tr>\n",
       "<tr>\n",
       "  <th>Df Residuals:</th>          <td>   496</td>      <th>  BIC:               </th> <td>   8352.</td> \n",
       "</tr>\n",
       "<tr>\n",
       "  <th>Df Model:</th>              <td>    14</td>      <th>                     </th>     <td> </td>    \n",
       "</tr>\n",
       "<tr>\n",
       "  <th>Covariance Type:</th>      <td>nonrobust</td>    <th>                     </th>     <td> </td>    \n",
       "</tr>\n",
       "</table>\n",
       "<table class=\"simpletable\">\n",
       "<tr>\n",
       "                   <td></td>                     <th>coef</th>     <th>std err</th>      <th>t</th>      <th>P>|t|</th>  <th>[0.025</th>    <th>0.975]</th>  \n",
       "</tr>\n",
       "<tr>\n",
       "  <th>const</th>                              <td> 2158.0410</td> <td>  279.762</td> <td>    7.714</td> <td> 0.000</td> <td> 1608.376</td> <td> 2707.706</td>\n",
       "</tr>\n",
       "<tr>\n",
       "  <th>spring</th>                             <td> -621.4538</td> <td>  187.010</td> <td>   -3.323</td> <td> 0.001</td> <td> -988.884</td> <td> -254.024</td>\n",
       "</tr>\n",
       "<tr>\n",
       "  <th>summer</th>                             <td>  300.4926</td> <td>  134.799</td> <td>    2.229</td> <td> 0.026</td> <td>   35.646</td> <td>  565.340</td>\n",
       "</tr>\n",
       "<tr>\n",
       "  <th>winter</th>                             <td>  770.6852</td> <td>  155.989</td> <td>    4.941</td> <td> 0.000</td> <td>  464.205</td> <td> 1077.165</td>\n",
       "</tr>\n",
       "<tr>\n",
       "  <th>December</th>                           <td> -386.3915</td> <td>  153.905</td> <td>   -2.511</td> <td> 0.012</td> <td> -688.778</td> <td>  -84.005</td>\n",
       "</tr>\n",
       "<tr>\n",
       "  <th>January</th>                            <td> -437.6255</td> <td>  159.941</td> <td>   -2.736</td> <td> 0.006</td> <td> -751.871</td> <td> -123.380</td>\n",
       "</tr>\n",
       "<tr>\n",
       "  <th>July</th>                               <td> -436.7242</td> <td>  161.033</td> <td>   -2.712</td> <td> 0.007</td> <td> -753.115</td> <td> -120.333</td>\n",
       "</tr>\n",
       "<tr>\n",
       "  <th>November</th>                           <td> -362.7989</td> <td>  165.872</td> <td>   -2.187</td> <td> 0.029</td> <td> -688.697</td> <td>  -36.900</td>\n",
       "</tr>\n",
       "<tr>\n",
       "  <th>September</th>                          <td>  592.4547</td> <td>  148.855</td> <td>    3.980</td> <td> 0.000</td> <td>  299.991</td> <td>  884.918</td>\n",
       "</tr>\n",
       "<tr>\n",
       "  <th>Light rain_Light snow_Thunderstorm</th> <td>-2543.4806</td> <td>  214.266</td> <td>  -11.871</td> <td> 0.000</td> <td>-2964.461</td> <td>-2122.500</td>\n",
       "</tr>\n",
       "<tr>\n",
       "  <th>Mist_cloudy</th>                        <td> -699.8303</td> <td>   75.669</td> <td>   -9.249</td> <td> 0.000</td> <td> -848.502</td> <td> -551.158</td>\n",
       "</tr>\n",
       "<tr>\n",
       "  <th>yr</th>                                 <td> 2041.8420</td> <td>   71.028</td> <td>   28.747</td> <td> 0.000</td> <td> 1902.289</td> <td> 2181.395</td>\n",
       "</tr>\n",
       "<tr>\n",
       "  <th>holiday</th>                            <td> -798.5984</td> <td>  226.653</td> <td>   -3.523</td> <td> 0.000</td> <td>-1243.917</td> <td> -353.280</td>\n",
       "</tr>\n",
       "<tr>\n",
       "  <th>temp</th>                               <td> 3806.4407</td> <td>  315.519</td> <td>   12.064</td> <td> 0.000</td> <td> 3186.522</td> <td> 4426.360</td>\n",
       "</tr>\n",
       "<tr>\n",
       "  <th>windspeed</th>                          <td>-1377.2865</td> <td>  219.652</td> <td>   -6.270</td> <td> 0.000</td> <td>-1808.850</td> <td> -945.723</td>\n",
       "</tr>\n",
       "</table>\n",
       "<table class=\"simpletable\">\n",
       "<tr>\n",
       "  <th>Omnibus:</th>       <td>69.938</td> <th>  Durbin-Watson:     </th> <td>   2.015</td>\n",
       "</tr>\n",
       "<tr>\n",
       "  <th>Prob(Omnibus):</th> <td> 0.000</td> <th>  Jarque-Bera (JB):  </th> <td> 173.772</td>\n",
       "</tr>\n",
       "<tr>\n",
       "  <th>Skew:</th>          <td>-0.703</td> <th>  Prob(JB):          </th> <td>1.84e-38</td>\n",
       "</tr>\n",
       "<tr>\n",
       "  <th>Kurtosis:</th>      <td> 5.487</td> <th>  Cond. No.          </th> <td>    18.9</td>\n",
       "</tr>\n",
       "</table><br/><br/>Notes:<br/>[1] Standard Errors assume that the covariance matrix of the errors is correctly specified."
      ],
      "text/plain": [
       "<class 'statsmodels.iolib.summary.Summary'>\n",
       "\"\"\"\n",
       "                            OLS Regression Results                            \n",
       "==============================================================================\n",
       "Dep. Variable:                    cnt   R-squared:                       0.839\n",
       "Model:                            OLS   Adj. R-squared:                  0.835\n",
       "Method:                 Least Squares   F-statistic:                     185.1\n",
       "Date:                Thu, 27 Apr 2023   Prob (F-statistic):          1.41e-186\n",
       "Time:                        21:20:17   Log-Likelihood:                -4129.4\n",
       "No. Observations:                 511   AIC:                             8289.\n",
       "Df Residuals:                     496   BIC:                             8352.\n",
       "Df Model:                          14                                         \n",
       "Covariance Type:            nonrobust                                         \n",
       "======================================================================================================\n",
       "                                         coef    std err          t      P>|t|      [0.025      0.975]\n",
       "------------------------------------------------------------------------------------------------------\n",
       "const                               2158.0410    279.762      7.714      0.000    1608.376    2707.706\n",
       "spring                              -621.4538    187.010     -3.323      0.001    -988.884    -254.024\n",
       "summer                               300.4926    134.799      2.229      0.026      35.646     565.340\n",
       "winter                               770.6852    155.989      4.941      0.000     464.205    1077.165\n",
       "December                            -386.3915    153.905     -2.511      0.012    -688.778     -84.005\n",
       "January                             -437.6255    159.941     -2.736      0.006    -751.871    -123.380\n",
       "July                                -436.7242    161.033     -2.712      0.007    -753.115    -120.333\n",
       "November                            -362.7989    165.872     -2.187      0.029    -688.697     -36.900\n",
       "September                            592.4547    148.855      3.980      0.000     299.991     884.918\n",
       "Light rain_Light snow_Thunderstorm -2543.4806    214.266    -11.871      0.000   -2964.461   -2122.500\n",
       "Mist_cloudy                         -699.8303     75.669     -9.249      0.000    -848.502    -551.158\n",
       "yr                                  2041.8420     71.028     28.747      0.000    1902.289    2181.395\n",
       "holiday                             -798.5984    226.653     -3.523      0.000   -1243.917    -353.280\n",
       "temp                                3806.4407    315.519     12.064      0.000    3186.522    4426.360\n",
       "windspeed                          -1377.2865    219.652     -6.270      0.000   -1808.850    -945.723\n",
       "==============================================================================\n",
       "Omnibus:                       69.938   Durbin-Watson:                   2.015\n",
       "Prob(Omnibus):                  0.000   Jarque-Bera (JB):              173.772\n",
       "Skew:                          -0.703   Prob(JB):                     1.84e-38\n",
       "Kurtosis:                       5.487   Cond. No.                         18.9\n",
       "==============================================================================\n",
       "\n",
       "Notes:\n",
       "[1] Standard Errors assume that the covariance matrix of the errors is correctly specified.\n",
       "\"\"\""
      ]
     },
     "execution_count": 40,
     "metadata": {},
     "output_type": "execute_result"
    }
   ],
   "source": [
    "model2=sm.OLS(y_train,x_train_sm)\n",
    "res2=model2.fit()\n",
    "res2.summary()"
   ]
  },
  {
   "cell_type": "code",
   "execution_count": 41,
   "id": "40ce866d",
   "metadata": {},
   "outputs": [
    {
     "data": {
      "text/html": [
       "<div>\n",
       "<style scoped>\n",
       "    .dataframe tbody tr th:only-of-type {\n",
       "        vertical-align: middle;\n",
       "    }\n",
       "\n",
       "    .dataframe tbody tr th {\n",
       "        vertical-align: top;\n",
       "    }\n",
       "\n",
       "    .dataframe thead th {\n",
       "        text-align: right;\n",
       "    }\n",
       "</style>\n",
       "<table border=\"1\" class=\"dataframe\">\n",
       "  <thead>\n",
       "    <tr style=\"text-align: right;\">\n",
       "      <th></th>\n",
       "      <th>Features</th>\n",
       "      <th>VIF</th>\n",
       "    </tr>\n",
       "  </thead>\n",
       "  <tbody>\n",
       "    <tr>\n",
       "      <th>12</th>\n",
       "      <td>temp</td>\n",
       "      <td>5.18</td>\n",
       "    </tr>\n",
       "    <tr>\n",
       "      <th>13</th>\n",
       "      <td>windspeed</td>\n",
       "      <td>4.67</td>\n",
       "    </tr>\n",
       "    <tr>\n",
       "      <th>2</th>\n",
       "      <td>winter</td>\n",
       "      <td>2.94</td>\n",
       "    </tr>\n",
       "    <tr>\n",
       "      <th>0</th>\n",
       "      <td>spring</td>\n",
       "      <td>2.89</td>\n",
       "    </tr>\n",
       "    <tr>\n",
       "      <th>1</th>\n",
       "      <td>summer</td>\n",
       "      <td>2.24</td>\n",
       "    </tr>\n",
       "    <tr>\n",
       "      <th>10</th>\n",
       "      <td>yr</td>\n",
       "      <td>2.08</td>\n",
       "    </tr>\n",
       "    <tr>\n",
       "      <th>6</th>\n",
       "      <td>November</td>\n",
       "      <td>1.80</td>\n",
       "    </tr>\n",
       "    <tr>\n",
       "      <th>4</th>\n",
       "      <td>January</td>\n",
       "      <td>1.66</td>\n",
       "    </tr>\n",
       "    <tr>\n",
       "      <th>5</th>\n",
       "      <td>July</td>\n",
       "      <td>1.59</td>\n",
       "    </tr>\n",
       "    <tr>\n",
       "      <th>9</th>\n",
       "      <td>Mist_cloudy</td>\n",
       "      <td>1.56</td>\n",
       "    </tr>\n",
       "    <tr>\n",
       "      <th>3</th>\n",
       "      <td>December</td>\n",
       "      <td>1.46</td>\n",
       "    </tr>\n",
       "    <tr>\n",
       "      <th>7</th>\n",
       "      <td>September</td>\n",
       "      <td>1.35</td>\n",
       "    </tr>\n",
       "    <tr>\n",
       "      <th>8</th>\n",
       "      <td>Light rain_Light snow_Thunderstorm</td>\n",
       "      <td>1.09</td>\n",
       "    </tr>\n",
       "    <tr>\n",
       "      <th>11</th>\n",
       "      <td>holiday</td>\n",
       "      <td>1.06</td>\n",
       "    </tr>\n",
       "  </tbody>\n",
       "</table>\n",
       "</div>"
      ],
      "text/plain": [
       "                              Features   VIF\n",
       "12                                temp  5.18\n",
       "13                           windspeed  4.67\n",
       "2                               winter  2.94\n",
       "0                               spring  2.89\n",
       "1                               summer  2.24\n",
       "10                                  yr  2.08\n",
       "6                             November  1.80\n",
       "4                              January  1.66\n",
       "5                                 July  1.59\n",
       "9                          Mist_cloudy  1.56\n",
       "3                             December  1.46\n",
       "7                            September  1.35\n",
       "8   Light rain_Light snow_Thunderstorm  1.09\n",
       "11                             holiday  1.06"
      ]
     },
     "execution_count": 41,
     "metadata": {},
     "output_type": "execute_result"
    }
   ],
   "source": [
    "cal_VIF(x_train)"
   ]
  },
  {
   "cell_type": "code",
   "execution_count": 42,
   "id": "e03b0f9b",
   "metadata": {},
   "outputs": [],
   "source": [
    "x_train=x_train.drop([\"temp\"],axis=1)\n",
    "x_test=x_test.drop([\"temp\"],axis=1)"
   ]
  },
  {
   "cell_type": "code",
   "execution_count": 43,
   "id": "06e038ed",
   "metadata": {},
   "outputs": [],
   "source": [
    "x_train_sm=sm.add_constant(x_train)\n",
    "x_test_sm=sm.add_constant(x_test)"
   ]
  },
  {
   "cell_type": "code",
   "execution_count": 44,
   "id": "507d8f02",
   "metadata": {},
   "outputs": [
    {
     "data": {
      "text/html": [
       "<table class=\"simpletable\">\n",
       "<caption>OLS Regression Results</caption>\n",
       "<tr>\n",
       "  <th>Dep. Variable:</th>           <td>cnt</td>       <th>  R-squared:         </th> <td>   0.792</td> \n",
       "</tr>\n",
       "<tr>\n",
       "  <th>Model:</th>                   <td>OLS</td>       <th>  Adj. R-squared:    </th> <td>   0.787</td> \n",
       "</tr>\n",
       "<tr>\n",
       "  <th>Method:</th>             <td>Least Squares</td>  <th>  F-statistic:       </th> <td>   145.8</td> \n",
       "</tr>\n",
       "<tr>\n",
       "  <th>Date:</th>             <td>Thu, 27 Apr 2023</td> <th>  Prob (F-statistic):</th> <td>4.19e-160</td>\n",
       "</tr>\n",
       "<tr>\n",
       "  <th>Time:</th>                 <td>21:20:17</td>     <th>  Log-Likelihood:    </th> <td> -4195.1</td> \n",
       "</tr>\n",
       "<tr>\n",
       "  <th>No. Observations:</th>      <td>   511</td>      <th>  AIC:               </th> <td>   8418.</td> \n",
       "</tr>\n",
       "<tr>\n",
       "  <th>Df Residuals:</th>          <td>   497</td>      <th>  BIC:               </th> <td>   8478.</td> \n",
       "</tr>\n",
       "<tr>\n",
       "  <th>Df Model:</th>              <td>    13</td>      <th>                     </th>     <td> </td>    \n",
       "</tr>\n",
       "<tr>\n",
       "  <th>Covariance Type:</th>      <td>nonrobust</td>    <th>                     </th>     <td> </td>    \n",
       "</tr>\n",
       "</table>\n",
       "<table class=\"simpletable\">\n",
       "<tr>\n",
       "                   <td></td>                     <th>coef</th>     <th>std err</th>      <th>t</th>      <th>P>|t|</th>  <th>[0.025</th>    <th>0.975]</th>  \n",
       "</tr>\n",
       "<tr>\n",
       "  <th>const</th>                              <td> 5197.6761</td> <td>  138.143</td> <td>   37.625</td> <td> 0.000</td> <td> 4926.259</td> <td> 5469.093</td>\n",
       "</tr>\n",
       "<tr>\n",
       "  <th>spring</th>                             <td>-2175.2883</td> <td>  154.046</td> <td>  -14.121</td> <td> 0.000</td> <td>-2477.950</td> <td>-1872.627</td>\n",
       "</tr>\n",
       "<tr>\n",
       "  <th>summer</th>                             <td> -433.1663</td> <td>  136.680</td> <td>   -3.169</td> <td> 0.002</td> <td> -701.708</td> <td> -164.625</td>\n",
       "</tr>\n",
       "<tr>\n",
       "  <th>winter</th>                             <td> -185.7632</td> <td>  152.629</td> <td>   -1.217</td> <td> 0.224</td> <td> -485.641</td> <td>  114.114</td>\n",
       "</tr>\n",
       "<tr>\n",
       "  <th>December</th>                           <td> -955.5264</td> <td>  166.441</td> <td>   -5.741</td> <td> 0.000</td> <td>-1282.542</td> <td> -628.511</td>\n",
       "</tr>\n",
       "<tr>\n",
       "  <th>January</th>                            <td>-1046.0236</td> <td>  172.447</td> <td>   -6.066</td> <td> 0.000</td> <td>-1384.838</td> <td> -707.209</td>\n",
       "</tr>\n",
       "<tr>\n",
       "  <th>July</th>                               <td> -160.2718</td> <td>  181.095</td> <td>   -0.885</td> <td> 0.377</td> <td> -516.078</td> <td>  195.534</td>\n",
       "</tr>\n",
       "<tr>\n",
       "  <th>November</th>                           <td> -880.1752</td> <td>  182.047</td> <td>   -4.835</td> <td> 0.000</td> <td>-1237.852</td> <td> -522.498</td>\n",
       "</tr>\n",
       "<tr>\n",
       "  <th>September</th>                          <td>  459.9114</td> <td>  168.660</td> <td>    2.727</td> <td> 0.007</td> <td>  128.538</td> <td>  791.285</td>\n",
       "</tr>\n",
       "<tr>\n",
       "  <th>Light rain_Light snow_Thunderstorm</th> <td>-2715.5111</td> <td>  242.897</td> <td>  -11.180</td> <td> 0.000</td> <td>-3192.743</td> <td>-2238.279</td>\n",
       "</tr>\n",
       "<tr>\n",
       "  <th>Mist_cloudy</th>                        <td> -758.6555</td> <td>   85.793</td> <td>   -8.843</td> <td> 0.000</td> <td> -927.217</td> <td> -590.094</td>\n",
       "</tr>\n",
       "<tr>\n",
       "  <th>yr</th>                                 <td> 2139.0446</td> <td>   80.177</td> <td>   26.679</td> <td> 0.000</td> <td> 1981.516</td> <td> 2296.573</td>\n",
       "</tr>\n",
       "<tr>\n",
       "  <th>holiday</th>                            <td> -744.0603</td> <td>  257.460</td> <td>   -2.890</td> <td> 0.004</td> <td>-1249.904</td> <td> -238.217</td>\n",
       "</tr>\n",
       "<tr>\n",
       "  <th>windspeed</th>                          <td>-1652.8818</td> <td>  248.204</td> <td>   -6.659</td> <td> 0.000</td> <td>-2140.539</td> <td>-1165.224</td>\n",
       "</tr>\n",
       "</table>\n",
       "<table class=\"simpletable\">\n",
       "<tr>\n",
       "  <th>Omnibus:</th>       <td>57.096</td> <th>  Durbin-Watson:     </th> <td>   1.939</td>\n",
       "</tr>\n",
       "<tr>\n",
       "  <th>Prob(Omnibus):</th> <td> 0.000</td> <th>  Jarque-Bera (JB):  </th> <td> 134.722</td>\n",
       "</tr>\n",
       "<tr>\n",
       "  <th>Skew:</th>          <td>-0.594</td> <th>  Prob(JB):          </th> <td>5.57e-30</td>\n",
       "</tr>\n",
       "<tr>\n",
       "  <th>Kurtosis:</th>      <td> 5.217</td> <th>  Cond. No.          </th> <td>    9.28</td>\n",
       "</tr>\n",
       "</table><br/><br/>Notes:<br/>[1] Standard Errors assume that the covariance matrix of the errors is correctly specified."
      ],
      "text/plain": [
       "<class 'statsmodels.iolib.summary.Summary'>\n",
       "\"\"\"\n",
       "                            OLS Regression Results                            \n",
       "==============================================================================\n",
       "Dep. Variable:                    cnt   R-squared:                       0.792\n",
       "Model:                            OLS   Adj. R-squared:                  0.787\n",
       "Method:                 Least Squares   F-statistic:                     145.8\n",
       "Date:                Thu, 27 Apr 2023   Prob (F-statistic):          4.19e-160\n",
       "Time:                        21:20:17   Log-Likelihood:                -4195.1\n",
       "No. Observations:                 511   AIC:                             8418.\n",
       "Df Residuals:                     497   BIC:                             8478.\n",
       "Df Model:                          13                                         \n",
       "Covariance Type:            nonrobust                                         \n",
       "======================================================================================================\n",
       "                                         coef    std err          t      P>|t|      [0.025      0.975]\n",
       "------------------------------------------------------------------------------------------------------\n",
       "const                               5197.6761    138.143     37.625      0.000    4926.259    5469.093\n",
       "spring                             -2175.2883    154.046    -14.121      0.000   -2477.950   -1872.627\n",
       "summer                              -433.1663    136.680     -3.169      0.002    -701.708    -164.625\n",
       "winter                              -185.7632    152.629     -1.217      0.224    -485.641     114.114\n",
       "December                            -955.5264    166.441     -5.741      0.000   -1282.542    -628.511\n",
       "January                            -1046.0236    172.447     -6.066      0.000   -1384.838    -707.209\n",
       "July                                -160.2718    181.095     -0.885      0.377    -516.078     195.534\n",
       "November                            -880.1752    182.047     -4.835      0.000   -1237.852    -522.498\n",
       "September                            459.9114    168.660      2.727      0.007     128.538     791.285\n",
       "Light rain_Light snow_Thunderstorm -2715.5111    242.897    -11.180      0.000   -3192.743   -2238.279\n",
       "Mist_cloudy                         -758.6555     85.793     -8.843      0.000    -927.217    -590.094\n",
       "yr                                  2139.0446     80.177     26.679      0.000    1981.516    2296.573\n",
       "holiday                             -744.0603    257.460     -2.890      0.004   -1249.904    -238.217\n",
       "windspeed                          -1652.8818    248.204     -6.659      0.000   -2140.539   -1165.224\n",
       "==============================================================================\n",
       "Omnibus:                       57.096   Durbin-Watson:                   1.939\n",
       "Prob(Omnibus):                  0.000   Jarque-Bera (JB):              134.722\n",
       "Skew:                          -0.594   Prob(JB):                     5.57e-30\n",
       "Kurtosis:                       5.217   Cond. No.                         9.28\n",
       "==============================================================================\n",
       "\n",
       "Notes:\n",
       "[1] Standard Errors assume that the covariance matrix of the errors is correctly specified.\n",
       "\"\"\""
      ]
     },
     "execution_count": 44,
     "metadata": {},
     "output_type": "execute_result"
    }
   ],
   "source": [
    "model3=sm.OLS(y_train,x_train_sm)\n",
    "res3=model3.fit()\n",
    "res3.summary()"
   ]
  },
  {
   "cell_type": "code",
   "execution_count": 45,
   "id": "0070580c",
   "metadata": {},
   "outputs": [],
   "source": [
    "x_train=x_train.drop([\"July\"],axis=1)\n",
    "x_test=x_test.drop([\"July\"],axis=1)"
   ]
  },
  {
   "cell_type": "code",
   "execution_count": 46,
   "id": "fe39a802",
   "metadata": {},
   "outputs": [],
   "source": [
    "x_train_sm=sm.add_constant(x_train)\n",
    "x_test_sm=sm.add_constant(x_test)"
   ]
  },
  {
   "cell_type": "code",
   "execution_count": 47,
   "id": "187631b4",
   "metadata": {},
   "outputs": [
    {
     "data": {
      "text/html": [
       "<table class=\"simpletable\">\n",
       "<caption>OLS Regression Results</caption>\n",
       "<tr>\n",
       "  <th>Dep. Variable:</th>           <td>cnt</td>       <th>  R-squared:         </th> <td>   0.792</td> \n",
       "</tr>\n",
       "<tr>\n",
       "  <th>Model:</th>                   <td>OLS</td>       <th>  Adj. R-squared:    </th> <td>   0.787</td> \n",
       "</tr>\n",
       "<tr>\n",
       "  <th>Method:</th>             <td>Least Squares</td>  <th>  F-statistic:       </th> <td>   157.9</td> \n",
       "</tr>\n",
       "<tr>\n",
       "  <th>Date:</th>             <td>Thu, 27 Apr 2023</td> <th>  Prob (F-statistic):</th> <td>4.81e-161</td>\n",
       "</tr>\n",
       "<tr>\n",
       "  <th>Time:</th>                 <td>21:20:18</td>     <th>  Log-Likelihood:    </th> <td> -4195.5</td> \n",
       "</tr>\n",
       "<tr>\n",
       "  <th>No. Observations:</th>      <td>   511</td>      <th>  AIC:               </th> <td>   8417.</td> \n",
       "</tr>\n",
       "<tr>\n",
       "  <th>Df Residuals:</th>          <td>   498</td>      <th>  BIC:               </th> <td>   8472.</td> \n",
       "</tr>\n",
       "<tr>\n",
       "  <th>Df Model:</th>              <td>    12</td>      <th>                     </th>     <td> </td>    \n",
       "</tr>\n",
       "<tr>\n",
       "  <th>Covariance Type:</th>      <td>nonrobust</td>    <th>                     </th>     <td> </td>    \n",
       "</tr>\n",
       "</table>\n",
       "<table class=\"simpletable\">\n",
       "<tr>\n",
       "                   <td></td>                     <th>coef</th>     <th>std err</th>      <th>t</th>      <th>P>|t|</th>  <th>[0.025</th>    <th>0.975]</th>  \n",
       "</tr>\n",
       "<tr>\n",
       "  <th>const</th>                              <td> 5137.8495</td> <td>  120.447</td> <td>   42.656</td> <td> 0.000</td> <td> 4901.202</td> <td> 5374.497</td>\n",
       "</tr>\n",
       "<tr>\n",
       "  <th>spring</th>                             <td>-2118.7879</td> <td>  140.164</td> <td>  -15.116</td> <td> 0.000</td> <td>-2394.173</td> <td>-1843.402</td>\n",
       "</tr>\n",
       "<tr>\n",
       "  <th>summer</th>                             <td> -376.1746</td> <td>  120.533</td> <td>   -3.121</td> <td> 0.002</td> <td> -612.990</td> <td> -139.359</td>\n",
       "</tr>\n",
       "<tr>\n",
       "  <th>winter</th>                             <td> -135.3861</td> <td>  141.586</td> <td>   -0.956</td> <td> 0.339</td> <td> -413.566</td> <td>  142.794</td>\n",
       "</tr>\n",
       "<tr>\n",
       "  <th>December</th>                           <td> -950.6140</td> <td>  166.312</td> <td>   -5.716</td> <td> 0.000</td> <td>-1277.375</td> <td> -623.853</td>\n",
       "</tr>\n",
       "<tr>\n",
       "  <th>January</th>                            <td>-1045.9286</td> <td>  172.409</td> <td>   -6.067</td> <td> 0.000</td> <td>-1384.668</td> <td> -707.189</td>\n",
       "</tr>\n",
       "<tr>\n",
       "  <th>November</th>                           <td> -873.3687</td> <td>  181.845</td> <td>   -4.803</td> <td> 0.000</td> <td>-1230.647</td> <td> -516.091</td>\n",
       "</tr>\n",
       "<tr>\n",
       "  <th>September</th>                          <td>  505.7075</td> <td>  160.490</td> <td>    3.151</td> <td> 0.002</td> <td>  190.386</td> <td>  821.029</td>\n",
       "</tr>\n",
       "<tr>\n",
       "  <th>Light rain_Light snow_Thunderstorm</th> <td>-2716.4291</td> <td>  242.842</td> <td>  -11.186</td> <td> 0.000</td> <td>-3193.551</td> <td>-2239.307</td>\n",
       "</tr>\n",
       "<tr>\n",
       "  <th>Mist_cloudy</th>                        <td> -753.3346</td> <td>   85.563</td> <td>   -8.804</td> <td> 0.000</td> <td> -921.444</td> <td> -585.225</td>\n",
       "</tr>\n",
       "<tr>\n",
       "  <th>yr</th>                                 <td> 2139.7879</td> <td>   80.156</td> <td>   26.695</td> <td> 0.000</td> <td> 1982.303</td> <td> 2297.273</td>\n",
       "</tr>\n",
       "<tr>\n",
       "  <th>holiday</th>                            <td> -741.2217</td> <td>  257.384</td> <td>   -2.880</td> <td> 0.004</td> <td>-1246.914</td> <td> -235.530</td>\n",
       "</tr>\n",
       "<tr>\n",
       "  <th>windspeed</th>                          <td>-1651.7205</td> <td>  248.146</td> <td>   -6.656</td> <td> 0.000</td> <td>-2139.263</td> <td>-1164.178</td>\n",
       "</tr>\n",
       "</table>\n",
       "<table class=\"simpletable\">\n",
       "<tr>\n",
       "  <th>Omnibus:</th>       <td>57.237</td> <th>  Durbin-Watson:     </th> <td>   1.949</td>\n",
       "</tr>\n",
       "<tr>\n",
       "  <th>Prob(Omnibus):</th> <td> 0.000</td> <th>  Jarque-Bera (JB):  </th> <td> 133.949</td>\n",
       "</tr>\n",
       "<tr>\n",
       "  <th>Skew:</th>          <td>-0.598</td> <th>  Prob(JB):          </th> <td>8.19e-30</td>\n",
       "</tr>\n",
       "<tr>\n",
       "  <th>Kurtosis:</th>      <td> 5.205</td> <th>  Cond. No.          </th> <td>    8.94</td>\n",
       "</tr>\n",
       "</table><br/><br/>Notes:<br/>[1] Standard Errors assume that the covariance matrix of the errors is correctly specified."
      ],
      "text/plain": [
       "<class 'statsmodels.iolib.summary.Summary'>\n",
       "\"\"\"\n",
       "                            OLS Regression Results                            \n",
       "==============================================================================\n",
       "Dep. Variable:                    cnt   R-squared:                       0.792\n",
       "Model:                            OLS   Adj. R-squared:                  0.787\n",
       "Method:                 Least Squares   F-statistic:                     157.9\n",
       "Date:                Thu, 27 Apr 2023   Prob (F-statistic):          4.81e-161\n",
       "Time:                        21:20:18   Log-Likelihood:                -4195.5\n",
       "No. Observations:                 511   AIC:                             8417.\n",
       "Df Residuals:                     498   BIC:                             8472.\n",
       "Df Model:                          12                                         \n",
       "Covariance Type:            nonrobust                                         \n",
       "======================================================================================================\n",
       "                                         coef    std err          t      P>|t|      [0.025      0.975]\n",
       "------------------------------------------------------------------------------------------------------\n",
       "const                               5137.8495    120.447     42.656      0.000    4901.202    5374.497\n",
       "spring                             -2118.7879    140.164    -15.116      0.000   -2394.173   -1843.402\n",
       "summer                              -376.1746    120.533     -3.121      0.002    -612.990    -139.359\n",
       "winter                              -135.3861    141.586     -0.956      0.339    -413.566     142.794\n",
       "December                            -950.6140    166.312     -5.716      0.000   -1277.375    -623.853\n",
       "January                            -1045.9286    172.409     -6.067      0.000   -1384.668    -707.189\n",
       "November                            -873.3687    181.845     -4.803      0.000   -1230.647    -516.091\n",
       "September                            505.7075    160.490      3.151      0.002     190.386     821.029\n",
       "Light rain_Light snow_Thunderstorm -2716.4291    242.842    -11.186      0.000   -3193.551   -2239.307\n",
       "Mist_cloudy                         -753.3346     85.563     -8.804      0.000    -921.444    -585.225\n",
       "yr                                  2139.7879     80.156     26.695      0.000    1982.303    2297.273\n",
       "holiday                             -741.2217    257.384     -2.880      0.004   -1246.914    -235.530\n",
       "windspeed                          -1651.7205    248.146     -6.656      0.000   -2139.263   -1164.178\n",
       "==============================================================================\n",
       "Omnibus:                       57.237   Durbin-Watson:                   1.949\n",
       "Prob(Omnibus):                  0.000   Jarque-Bera (JB):              133.949\n",
       "Skew:                          -0.598   Prob(JB):                     8.19e-30\n",
       "Kurtosis:                       5.205   Cond. No.                         8.94\n",
       "==============================================================================\n",
       "\n",
       "Notes:\n",
       "[1] Standard Errors assume that the covariance matrix of the errors is correctly specified.\n",
       "\"\"\""
      ]
     },
     "execution_count": 47,
     "metadata": {},
     "output_type": "execute_result"
    }
   ],
   "source": [
    "model4=sm.OLS(y_train,x_train_sm)\n",
    "res4=model4.fit()\n",
    "res4.summary()"
   ]
  },
  {
   "cell_type": "code",
   "execution_count": 48,
   "id": "42c28a80",
   "metadata": {},
   "outputs": [],
   "source": [
    "x_train=x_train.drop([\"winter\"],axis=1)\n",
    "x_test=x_test.drop([\"winter\"],axis=1)"
   ]
  },
  {
   "cell_type": "code",
   "execution_count": 49,
   "id": "44d476cb",
   "metadata": {},
   "outputs": [],
   "source": [
    "x_train_sm=sm.add_constant(x_train)\n",
    "x_test_sm=sm.add_constant(x_test)"
   ]
  },
  {
   "cell_type": "code",
   "execution_count": 50,
   "id": "fa42c8e1",
   "metadata": {},
   "outputs": [
    {
     "data": {
      "text/html": [
       "<table class=\"simpletable\">\n",
       "<caption>OLS Regression Results</caption>\n",
       "<tr>\n",
       "  <th>Dep. Variable:</th>           <td>cnt</td>       <th>  R-squared:         </th> <td>   0.792</td> \n",
       "</tr>\n",
       "<tr>\n",
       "  <th>Model:</th>                   <td>OLS</td>       <th>  Adj. R-squared:    </th> <td>   0.787</td> \n",
       "</tr>\n",
       "<tr>\n",
       "  <th>Method:</th>             <td>Least Squares</td>  <th>  F-statistic:       </th> <td>   172.2</td> \n",
       "</tr>\n",
       "<tr>\n",
       "  <th>Date:</th>             <td>Thu, 27 Apr 2023</td> <th>  Prob (F-statistic):</th> <td>5.64e-162</td>\n",
       "</tr>\n",
       "<tr>\n",
       "  <th>Time:</th>                 <td>21:20:18</td>     <th>  Log-Likelihood:    </th> <td> -4196.0</td> \n",
       "</tr>\n",
       "<tr>\n",
       "  <th>No. Observations:</th>      <td>   511</td>      <th>  AIC:               </th> <td>   8416.</td> \n",
       "</tr>\n",
       "<tr>\n",
       "  <th>Df Residuals:</th>          <td>   499</td>      <th>  BIC:               </th> <td>   8467.</td> \n",
       "</tr>\n",
       "<tr>\n",
       "  <th>Df Model:</th>              <td>    11</td>      <th>                     </th>     <td> </td>    \n",
       "</tr>\n",
       "<tr>\n",
       "  <th>Covariance Type:</th>      <td>nonrobust</td>    <th>                     </th>     <td> </td>    \n",
       "</tr>\n",
       "</table>\n",
       "<table class=\"simpletable\">\n",
       "<tr>\n",
       "                   <td></td>                     <th>coef</th>     <th>std err</th>      <th>t</th>      <th>P>|t|</th>  <th>[0.025</th>    <th>0.975]</th>  \n",
       "</tr>\n",
       "<tr>\n",
       "  <th>const</th>                              <td> 5096.9903</td> <td>  112.603</td> <td>   45.265</td> <td> 0.000</td> <td> 4875.755</td> <td> 5318.225</td>\n",
       "</tr>\n",
       "<tr>\n",
       "  <th>spring</th>                             <td>-2061.5829</td> <td>  126.744</td> <td>  -16.266</td> <td> 0.000</td> <td>-2310.601</td> <td>-1812.564</td>\n",
       "</tr>\n",
       "<tr>\n",
       "  <th>summer</th>                             <td> -330.0192</td> <td>  110.436</td> <td>   -2.988</td> <td> 0.003</td> <td> -546.997</td> <td> -113.042</td>\n",
       "</tr>\n",
       "<tr>\n",
       "  <th>December</th>                           <td>-1016.4815</td> <td>  151.363</td> <td>   -6.716</td> <td> 0.000</td> <td>-1313.870</td> <td> -719.093</td>\n",
       "</tr>\n",
       "<tr>\n",
       "  <th>January</th>                            <td>-1057.1445</td> <td>  171.995</td> <td>   -6.146</td> <td> 0.000</td> <td>-1395.068</td> <td> -719.221</td>\n",
       "</tr>\n",
       "<tr>\n",
       "  <th>November</th>                           <td> -962.2322</td> <td>  156.291</td> <td>   -6.157</td> <td> 0.000</td> <td>-1269.301</td> <td> -655.163</td>\n",
       "</tr>\n",
       "<tr>\n",
       "  <th>September</th>                          <td>  522.5974</td> <td>  159.502</td> <td>    3.276</td> <td> 0.001</td> <td>  209.220</td> <td>  835.975</td>\n",
       "</tr>\n",
       "<tr>\n",
       "  <th>Light rain_Light snow_Thunderstorm</th> <td>-2744.7562</td> <td>  241.008</td> <td>  -11.389</td> <td> 0.000</td> <td>-3218.271</td> <td>-2271.241</td>\n",
       "</tr>\n",
       "<tr>\n",
       "  <th>Mist_cloudy</th>                        <td> -760.0172</td> <td>   85.270</td> <td>   -8.913</td> <td> 0.000</td> <td> -927.550</td> <td> -592.485</td>\n",
       "</tr>\n",
       "<tr>\n",
       "  <th>yr</th>                                 <td> 2140.4925</td> <td>   80.145</td> <td>   26.708</td> <td> 0.000</td> <td> 1983.029</td> <td> 2297.956</td>\n",
       "</tr>\n",
       "<tr>\n",
       "  <th>holiday</th>                            <td> -742.6829</td> <td>  257.357</td> <td>   -2.886</td> <td> 0.004</td> <td>-1248.320</td> <td> -237.046</td>\n",
       "</tr>\n",
       "<tr>\n",
       "  <th>windspeed</th>                          <td>-1659.2387</td> <td>  248.000</td> <td>   -6.690</td> <td> 0.000</td> <td>-2146.492</td> <td>-1171.985</td>\n",
       "</tr>\n",
       "</table>\n",
       "<table class=\"simpletable\">\n",
       "<tr>\n",
       "  <th>Omnibus:</th>       <td>60.724</td> <th>  Durbin-Watson:     </th> <td>   1.942</td>\n",
       "</tr>\n",
       "<tr>\n",
       "  <th>Prob(Omnibus):</th> <td> 0.000</td> <th>  Jarque-Bera (JB):  </th> <td> 146.637</td>\n",
       "</tr>\n",
       "<tr>\n",
       "  <th>Skew:</th>          <td>-0.623</td> <th>  Prob(JB):          </th> <td>1.44e-32</td>\n",
       "</tr>\n",
       "<tr>\n",
       "  <th>Kurtosis:</th>      <td> 5.310</td> <th>  Cond. No.          </th> <td>    8.79</td>\n",
       "</tr>\n",
       "</table><br/><br/>Notes:<br/>[1] Standard Errors assume that the covariance matrix of the errors is correctly specified."
      ],
      "text/plain": [
       "<class 'statsmodels.iolib.summary.Summary'>\n",
       "\"\"\"\n",
       "                            OLS Regression Results                            \n",
       "==============================================================================\n",
       "Dep. Variable:                    cnt   R-squared:                       0.792\n",
       "Model:                            OLS   Adj. R-squared:                  0.787\n",
       "Method:                 Least Squares   F-statistic:                     172.2\n",
       "Date:                Thu, 27 Apr 2023   Prob (F-statistic):          5.64e-162\n",
       "Time:                        21:20:18   Log-Likelihood:                -4196.0\n",
       "No. Observations:                 511   AIC:                             8416.\n",
       "Df Residuals:                     499   BIC:                             8467.\n",
       "Df Model:                          11                                         \n",
       "Covariance Type:            nonrobust                                         \n",
       "======================================================================================================\n",
       "                                         coef    std err          t      P>|t|      [0.025      0.975]\n",
       "------------------------------------------------------------------------------------------------------\n",
       "const                               5096.9903    112.603     45.265      0.000    4875.755    5318.225\n",
       "spring                             -2061.5829    126.744    -16.266      0.000   -2310.601   -1812.564\n",
       "summer                              -330.0192    110.436     -2.988      0.003    -546.997    -113.042\n",
       "December                           -1016.4815    151.363     -6.716      0.000   -1313.870    -719.093\n",
       "January                            -1057.1445    171.995     -6.146      0.000   -1395.068    -719.221\n",
       "November                            -962.2322    156.291     -6.157      0.000   -1269.301    -655.163\n",
       "September                            522.5974    159.502      3.276      0.001     209.220     835.975\n",
       "Light rain_Light snow_Thunderstorm -2744.7562    241.008    -11.389      0.000   -3218.271   -2271.241\n",
       "Mist_cloudy                         -760.0172     85.270     -8.913      0.000    -927.550    -592.485\n",
       "yr                                  2140.4925     80.145     26.708      0.000    1983.029    2297.956\n",
       "holiday                             -742.6829    257.357     -2.886      0.004   -1248.320    -237.046\n",
       "windspeed                          -1659.2387    248.000     -6.690      0.000   -2146.492   -1171.985\n",
       "==============================================================================\n",
       "Omnibus:                       60.724   Durbin-Watson:                   1.942\n",
       "Prob(Omnibus):                  0.000   Jarque-Bera (JB):              146.637\n",
       "Skew:                          -0.623   Prob(JB):                     1.44e-32\n",
       "Kurtosis:                       5.310   Cond. No.                         8.79\n",
       "==============================================================================\n",
       "\n",
       "Notes:\n",
       "[1] Standard Errors assume that the covariance matrix of the errors is correctly specified.\n",
       "\"\"\""
      ]
     },
     "execution_count": 50,
     "metadata": {},
     "output_type": "execute_result"
    }
   ],
   "source": [
    "model5=sm.OLS(y_train,x_train_sm)\n",
    "res5=model5.fit()\n",
    "res5.summary()"
   ]
  },
  {
   "cell_type": "code",
   "execution_count": 51,
   "id": "e59ddbd3",
   "metadata": {},
   "outputs": [
    {
     "data": {
      "text/html": [
       "<div>\n",
       "<style scoped>\n",
       "    .dataframe tbody tr th:only-of-type {\n",
       "        vertical-align: middle;\n",
       "    }\n",
       "\n",
       "    .dataframe tbody tr th {\n",
       "        vertical-align: top;\n",
       "    }\n",
       "\n",
       "    .dataframe thead th {\n",
       "        text-align: right;\n",
       "    }\n",
       "</style>\n",
       "<table border=\"1\" class=\"dataframe\">\n",
       "  <thead>\n",
       "    <tr style=\"text-align: right;\">\n",
       "      <th></th>\n",
       "      <th>Features</th>\n",
       "      <th>VIF</th>\n",
       "    </tr>\n",
       "  </thead>\n",
       "  <tbody>\n",
       "    <tr>\n",
       "      <th>10</th>\n",
       "      <td>windspeed</td>\n",
       "      <td>3.23</td>\n",
       "    </tr>\n",
       "    <tr>\n",
       "      <th>0</th>\n",
       "      <td>spring</td>\n",
       "      <td>2.36</td>\n",
       "    </tr>\n",
       "    <tr>\n",
       "      <th>8</th>\n",
       "      <td>yr</td>\n",
       "      <td>1.74</td>\n",
       "    </tr>\n",
       "    <tr>\n",
       "      <th>1</th>\n",
       "      <td>summer</td>\n",
       "      <td>1.70</td>\n",
       "    </tr>\n",
       "    <tr>\n",
       "      <th>3</th>\n",
       "      <td>January</td>\n",
       "      <td>1.62</td>\n",
       "    </tr>\n",
       "    <tr>\n",
       "      <th>7</th>\n",
       "      <td>Mist_cloudy</td>\n",
       "      <td>1.48</td>\n",
       "    </tr>\n",
       "    <tr>\n",
       "      <th>4</th>\n",
       "      <td>November</td>\n",
       "      <td>1.23</td>\n",
       "    </tr>\n",
       "    <tr>\n",
       "      <th>5</th>\n",
       "      <td>September</td>\n",
       "      <td>1.16</td>\n",
       "    </tr>\n",
       "    <tr>\n",
       "      <th>2</th>\n",
       "      <td>December</td>\n",
       "      <td>1.13</td>\n",
       "    </tr>\n",
       "    <tr>\n",
       "      <th>6</th>\n",
       "      <td>Light rain_Light snow_Thunderstorm</td>\n",
       "      <td>1.06</td>\n",
       "    </tr>\n",
       "    <tr>\n",
       "      <th>9</th>\n",
       "      <td>holiday</td>\n",
       "      <td>1.06</td>\n",
       "    </tr>\n",
       "  </tbody>\n",
       "</table>\n",
       "</div>"
      ],
      "text/plain": [
       "                              Features   VIF\n",
       "10                           windspeed  3.23\n",
       "0                               spring  2.36\n",
       "8                                   yr  1.74\n",
       "1                               summer  1.70\n",
       "3                              January  1.62\n",
       "7                          Mist_cloudy  1.48\n",
       "4                             November  1.23\n",
       "5                            September  1.16\n",
       "2                             December  1.13\n",
       "6   Light rain_Light snow_Thunderstorm  1.06\n",
       "9                              holiday  1.06"
      ]
     },
     "execution_count": 51,
     "metadata": {},
     "output_type": "execute_result"
    }
   ],
   "source": [
    "cal_VIF(x_train)"
   ]
  },
  {
   "cell_type": "code",
   "execution_count": 52,
   "id": "3114449e",
   "metadata": {},
   "outputs": [],
   "source": [
    "x_train_sm=sm.add_constant(x_train)\n",
    "x_test_sm=sm.add_constant(x_test)"
   ]
  },
  {
   "cell_type": "code",
   "execution_count": 53,
   "id": "92afc1cf",
   "metadata": {},
   "outputs": [
    {
     "data": {
      "text/html": [
       "<table class=\"simpletable\">\n",
       "<caption>OLS Regression Results</caption>\n",
       "<tr>\n",
       "  <th>Dep. Variable:</th>           <td>cnt</td>       <th>  R-squared:         </th> <td>   0.792</td> \n",
       "</tr>\n",
       "<tr>\n",
       "  <th>Model:</th>                   <td>OLS</td>       <th>  Adj. R-squared:    </th> <td>   0.787</td> \n",
       "</tr>\n",
       "<tr>\n",
       "  <th>Method:</th>             <td>Least Squares</td>  <th>  F-statistic:       </th> <td>   172.2</td> \n",
       "</tr>\n",
       "<tr>\n",
       "  <th>Date:</th>             <td>Thu, 27 Apr 2023</td> <th>  Prob (F-statistic):</th> <td>5.64e-162</td>\n",
       "</tr>\n",
       "<tr>\n",
       "  <th>Time:</th>                 <td>21:20:18</td>     <th>  Log-Likelihood:    </th> <td> -4196.0</td> \n",
       "</tr>\n",
       "<tr>\n",
       "  <th>No. Observations:</th>      <td>   511</td>      <th>  AIC:               </th> <td>   8416.</td> \n",
       "</tr>\n",
       "<tr>\n",
       "  <th>Df Residuals:</th>          <td>   499</td>      <th>  BIC:               </th> <td>   8467.</td> \n",
       "</tr>\n",
       "<tr>\n",
       "  <th>Df Model:</th>              <td>    11</td>      <th>                     </th>     <td> </td>    \n",
       "</tr>\n",
       "<tr>\n",
       "  <th>Covariance Type:</th>      <td>nonrobust</td>    <th>                     </th>     <td> </td>    \n",
       "</tr>\n",
       "</table>\n",
       "<table class=\"simpletable\">\n",
       "<tr>\n",
       "                   <td></td>                     <th>coef</th>     <th>std err</th>      <th>t</th>      <th>P>|t|</th>  <th>[0.025</th>    <th>0.975]</th>  \n",
       "</tr>\n",
       "<tr>\n",
       "  <th>const</th>                              <td> 5096.9903</td> <td>  112.603</td> <td>   45.265</td> <td> 0.000</td> <td> 4875.755</td> <td> 5318.225</td>\n",
       "</tr>\n",
       "<tr>\n",
       "  <th>spring</th>                             <td>-2061.5829</td> <td>  126.744</td> <td>  -16.266</td> <td> 0.000</td> <td>-2310.601</td> <td>-1812.564</td>\n",
       "</tr>\n",
       "<tr>\n",
       "  <th>summer</th>                             <td> -330.0192</td> <td>  110.436</td> <td>   -2.988</td> <td> 0.003</td> <td> -546.997</td> <td> -113.042</td>\n",
       "</tr>\n",
       "<tr>\n",
       "  <th>December</th>                           <td>-1016.4815</td> <td>  151.363</td> <td>   -6.716</td> <td> 0.000</td> <td>-1313.870</td> <td> -719.093</td>\n",
       "</tr>\n",
       "<tr>\n",
       "  <th>January</th>                            <td>-1057.1445</td> <td>  171.995</td> <td>   -6.146</td> <td> 0.000</td> <td>-1395.068</td> <td> -719.221</td>\n",
       "</tr>\n",
       "<tr>\n",
       "  <th>November</th>                           <td> -962.2322</td> <td>  156.291</td> <td>   -6.157</td> <td> 0.000</td> <td>-1269.301</td> <td> -655.163</td>\n",
       "</tr>\n",
       "<tr>\n",
       "  <th>September</th>                          <td>  522.5974</td> <td>  159.502</td> <td>    3.276</td> <td> 0.001</td> <td>  209.220</td> <td>  835.975</td>\n",
       "</tr>\n",
       "<tr>\n",
       "  <th>Light rain_Light snow_Thunderstorm</th> <td>-2744.7562</td> <td>  241.008</td> <td>  -11.389</td> <td> 0.000</td> <td>-3218.271</td> <td>-2271.241</td>\n",
       "</tr>\n",
       "<tr>\n",
       "  <th>Mist_cloudy</th>                        <td> -760.0172</td> <td>   85.270</td> <td>   -8.913</td> <td> 0.000</td> <td> -927.550</td> <td> -592.485</td>\n",
       "</tr>\n",
       "<tr>\n",
       "  <th>yr</th>                                 <td> 2140.4925</td> <td>   80.145</td> <td>   26.708</td> <td> 0.000</td> <td> 1983.029</td> <td> 2297.956</td>\n",
       "</tr>\n",
       "<tr>\n",
       "  <th>holiday</th>                            <td> -742.6829</td> <td>  257.357</td> <td>   -2.886</td> <td> 0.004</td> <td>-1248.320</td> <td> -237.046</td>\n",
       "</tr>\n",
       "<tr>\n",
       "  <th>windspeed</th>                          <td>-1659.2387</td> <td>  248.000</td> <td>   -6.690</td> <td> 0.000</td> <td>-2146.492</td> <td>-1171.985</td>\n",
       "</tr>\n",
       "</table>\n",
       "<table class=\"simpletable\">\n",
       "<tr>\n",
       "  <th>Omnibus:</th>       <td>60.724</td> <th>  Durbin-Watson:     </th> <td>   1.942</td>\n",
       "</tr>\n",
       "<tr>\n",
       "  <th>Prob(Omnibus):</th> <td> 0.000</td> <th>  Jarque-Bera (JB):  </th> <td> 146.637</td>\n",
       "</tr>\n",
       "<tr>\n",
       "  <th>Skew:</th>          <td>-0.623</td> <th>  Prob(JB):          </th> <td>1.44e-32</td>\n",
       "</tr>\n",
       "<tr>\n",
       "  <th>Kurtosis:</th>      <td> 5.310</td> <th>  Cond. No.          </th> <td>    8.79</td>\n",
       "</tr>\n",
       "</table><br/><br/>Notes:<br/>[1] Standard Errors assume that the covariance matrix of the errors is correctly specified."
      ],
      "text/plain": [
       "<class 'statsmodels.iolib.summary.Summary'>\n",
       "\"\"\"\n",
       "                            OLS Regression Results                            \n",
       "==============================================================================\n",
       "Dep. Variable:                    cnt   R-squared:                       0.792\n",
       "Model:                            OLS   Adj. R-squared:                  0.787\n",
       "Method:                 Least Squares   F-statistic:                     172.2\n",
       "Date:                Thu, 27 Apr 2023   Prob (F-statistic):          5.64e-162\n",
       "Time:                        21:20:18   Log-Likelihood:                -4196.0\n",
       "No. Observations:                 511   AIC:                             8416.\n",
       "Df Residuals:                     499   BIC:                             8467.\n",
       "Df Model:                          11                                         \n",
       "Covariance Type:            nonrobust                                         \n",
       "======================================================================================================\n",
       "                                         coef    std err          t      P>|t|      [0.025      0.975]\n",
       "------------------------------------------------------------------------------------------------------\n",
       "const                               5096.9903    112.603     45.265      0.000    4875.755    5318.225\n",
       "spring                             -2061.5829    126.744    -16.266      0.000   -2310.601   -1812.564\n",
       "summer                              -330.0192    110.436     -2.988      0.003    -546.997    -113.042\n",
       "December                           -1016.4815    151.363     -6.716      0.000   -1313.870    -719.093\n",
       "January                            -1057.1445    171.995     -6.146      0.000   -1395.068    -719.221\n",
       "November                            -962.2322    156.291     -6.157      0.000   -1269.301    -655.163\n",
       "September                            522.5974    159.502      3.276      0.001     209.220     835.975\n",
       "Light rain_Light snow_Thunderstorm -2744.7562    241.008    -11.389      0.000   -3218.271   -2271.241\n",
       "Mist_cloudy                         -760.0172     85.270     -8.913      0.000    -927.550    -592.485\n",
       "yr                                  2140.4925     80.145     26.708      0.000    1983.029    2297.956\n",
       "holiday                             -742.6829    257.357     -2.886      0.004   -1248.320    -237.046\n",
       "windspeed                          -1659.2387    248.000     -6.690      0.000   -2146.492   -1171.985\n",
       "==============================================================================\n",
       "Omnibus:                       60.724   Durbin-Watson:                   1.942\n",
       "Prob(Omnibus):                  0.000   Jarque-Bera (JB):              146.637\n",
       "Skew:                          -0.623   Prob(JB):                     1.44e-32\n",
       "Kurtosis:                       5.310   Cond. No.                         8.79\n",
       "==============================================================================\n",
       "\n",
       "Notes:\n",
       "[1] Standard Errors assume that the covariance matrix of the errors is correctly specified.\n",
       "\"\"\""
      ]
     },
     "execution_count": 53,
     "metadata": {},
     "output_type": "execute_result"
    }
   ],
   "source": [
    "model6=sm.OLS(y_train,x_train_sm)\n",
    "res6=model6.fit()\n",
    "res6.summary()"
   ]
  },
  {
   "cell_type": "markdown",
   "id": "37d2457c",
   "metadata": {},
   "source": [
    "## Model is ready"
   ]
  },
  {
   "cell_type": "code",
   "execution_count": 54,
   "id": "d498366e",
   "metadata": {},
   "outputs": [
    {
     "name": "stdout",
     "output_type": "stream",
     "text": [
      "Train Performance: 79.15 %\n"
     ]
    }
   ],
   "source": [
    "# Calculating R^2 value in terms of percent for the train dataset\n",
    "\n",
    "predicted_value1=res6.predict(x_train_sm)\n",
    "print(\"Train Performance:\",round(r2_score(y_train, predicted_value1)*100,2),\"%\")"
   ]
  },
  {
   "cell_type": "code",
   "execution_count": 55,
   "id": "5fa6908d",
   "metadata": {},
   "outputs": [
    {
     "name": "stdout",
     "output_type": "stream",
     "text": [
      "Test Performance: 75.35 %\n"
     ]
    }
   ],
   "source": [
    "# Calculating R^2 value in terms of percent for the test dataset\n",
    "\n",
    "predicted_value2=res6.predict(x_test_sm)\n",
    "print(\"Test Performance:\",round(r2_score(y_test, predicted_value2)*100,2),\"%\")"
   ]
  },
  {
   "cell_type": "code",
   "execution_count": 56,
   "id": "cb310294",
   "metadata": {},
   "outputs": [
    {
     "name": "stdout",
     "output_type": "stream",
     "text": [
      "0.7405\n"
     ]
    }
   ],
   "source": [
    "# Calculating Adjusted-R^2 value for the test dataset\n",
    "\n",
    "adjusted_r2 = round(1-(1-r2_score(y_test, predicted_value2))*(x_test.shape[0]-1)/(x_test.shape[0]-x_test.shape[1]-1),4)\n",
    "print(adjusted_r2)"
   ]
  },
  {
   "cell_type": "markdown",
   "id": "9e47b540",
   "metadata": {},
   "source": [
    "## Comparision between Training and Testing dataset:"
   ]
  },
  {
   "cell_type": "markdown",
   "id": "e979bcab",
   "metadata": {},
   "source": [
    "- Train dataset R^2          : 0.792\n",
    "- Test dataset R^2           : 0.753\n",
    "- Train dataset Adjusted R^2 : 0.787   \n",
    "- Test dataset Adjusted R^2  : 0.740"
   ]
  },
  {
   "cell_type": "markdown",
   "id": "52ff540a",
   "metadata": {},
   "source": [
    "## Model Evaluation"
   ]
  },
  {
   "cell_type": "code",
   "execution_count": 57,
   "id": "c5fe9483",
   "metadata": {},
   "outputs": [
    {
     "data": {
      "image/png": "[encoded data removed]",
      "text/plain": [
       "<Figure size 432x288 with 1 Axes>"
      ]
     },
     "metadata": {
      "needs_background": "light"
     },
     "output_type": "display_data"
    }
   ],
   "source": [
    "#CHECKING PREDICTED V/s TEST DATA \n",
    "\n",
    "fig = plt.figure()\n",
    "plt.scatter(y_test,predicted_value2)\n",
    "fig.suptitle('y_test vs y_pred', fontsize=20)              # Plot heading \n",
    "plt.xlabel('y_test', fontsize=18)                          # X-label\n",
    "plt.ylabel('y_pred', fontsize=16)                          # Y-label\n",
    "plt.show()"
   ]
  },
  {
   "cell_type": "markdown",
   "id": "35d408e2",
   "metadata": {},
   "source": [
    "## We have a model that appears accurate enough to forecast bike demand. The fact that the \"cnt\" or expected demand greatly overlapped the actual and predicted demand shows how well the model can account for the change in demand."
   ]
  },
  {
   "cell_type": "markdown",
   "id": "da3a4e6c",
   "metadata": {},
   "source": [
    "## Residual Analysis of the train data"
   ]
  },
  {
   "cell_type": "code",
   "execution_count": 58,
   "id": "5af1bdda",
   "metadata": {},
   "outputs": [],
   "source": [
    "x_t=x_train.iloc[:,0].values"
   ]
  },
  {
   "cell_type": "code",
   "execution_count": 59,
   "id": "1f083f2a",
   "metadata": {},
   "outputs": [],
   "source": [
    "#CALCULATING RESIDUALS\n",
    "\n",
    "res=y_train - predicted_value1"
   ]
  },
  {
   "cell_type": "code",
   "execution_count": 60,
   "id": "ea2a353a",
   "metadata": {},
   "outputs": [
    {
     "data": {
      "text/plain": [
       "Text(0.5, 0, 'Errors')"
      ]
     },
     "execution_count": 60,
     "metadata": {},
     "output_type": "execute_result"
    },
    {
     "data": {
      "image/png": "[encoded data removed]",
      "text/plain": [
       "<Figure size 432x288 with 1 Axes>"
      ]
     },
     "metadata": {
      "needs_background": "light"
     },
     "output_type": "display_data"
    }
   ],
   "source": [
    "#Checking ASSUMPTION OF NORMALITY:\n",
    "# Plot the histogram of the error terms\n",
    "fig = plt.figure()\n",
    "sns.distplot((res), bins = 20)\n",
    "fig.suptitle('Error Terms', fontsize = 20)                  # Plot heading \n",
    "plt.xlabel('Errors', fontsize = 18)                         # X-label"
   ]
  },
  {
   "cell_type": "code",
   "execution_count": 61,
   "id": "cd0f3031",
   "metadata": {},
   "outputs": [
    {
     "data": {
      "image/png": "[encoded data removed]",
      "text/plain": [
       "<Figure size 432x288 with 1 Axes>"
      ]
     },
     "metadata": {
      "needs_background": "light"
     },
     "output_type": "display_data"
    }
   ],
   "source": [
    "#PLotting the residuals to see if a pattern exists\n",
    "#Checking assumption of homoscedasticity and autocorrelation\n",
    "plt.figure()\n",
    "plt.scatter(x_t,res)\n",
    "fig.suptitle('Independent vars vs res', fontsize=20)              # Plot heading \n",
    "plt.xlabel('Independent variables', fontsize=18)                          # X-label\n",
    "plt.ylabel('Residuals', fontsize=16)  \n",
    "plt.show()"
   ]
  },
  {
   "cell_type": "markdown",
   "id": "817497c7",
   "metadata": {},
   "source": [
    "## Regression is likely to experience autocorrelation when we have time series data (such as annual data), as demand for the following year will undoubtedly depend on demand for the current year. Error terms in several observations will therefore undoubtedly be associated with one another.\n"
   ]
  },
  {
   "cell_type": "code",
   "execution_count": 62,
   "id": "6adace02",
   "metadata": {},
   "outputs": [
    {
     "data": {
      "text/html": [
       "<div>\n",
       "<style scoped>\n",
       "    .dataframe tbody tr th:only-of-type {\n",
       "        vertical-align: middle;\n",
       "    }\n",
       "\n",
       "    .dataframe tbody tr th {\n",
       "        vertical-align: top;\n",
       "    }\n",
       "\n",
       "    .dataframe thead th {\n",
       "        text-align: right;\n",
       "    }\n",
       "</style>\n",
       "<table border=\"1\" class=\"dataframe\">\n",
       "  <thead>\n",
       "    <tr style=\"text-align: right;\">\n",
       "      <th></th>\n",
       "      <th>spring</th>\n",
       "      <th>summer</th>\n",
       "      <th>December</th>\n",
       "      <th>January</th>\n",
       "      <th>November</th>\n",
       "      <th>September</th>\n",
       "      <th>Light rain_Light snow_Thunderstorm</th>\n",
       "      <th>Mist_cloudy</th>\n",
       "      <th>yr</th>\n",
       "      <th>holiday</th>\n",
       "      <th>windspeed</th>\n",
       "    </tr>\n",
       "  </thead>\n",
       "  <tbody>\n",
       "    <tr>\n",
       "      <th>653</th>\n",
       "      <td>0</td>\n",
       "      <td>0</td>\n",
       "      <td>0</td>\n",
       "      <td>0</td>\n",
       "      <td>0</td>\n",
       "      <td>0</td>\n",
       "      <td>0</td>\n",
       "      <td>0</td>\n",
       "      <td>1</td>\n",
       "      <td>0</td>\n",
       "      <td>0.300794</td>\n",
       "    </tr>\n",
       "    <tr>\n",
       "      <th>576</th>\n",
       "      <td>0</td>\n",
       "      <td>0</td>\n",
       "      <td>0</td>\n",
       "      <td>0</td>\n",
       "      <td>0</td>\n",
       "      <td>0</td>\n",
       "      <td>0</td>\n",
       "      <td>0</td>\n",
       "      <td>1</td>\n",
       "      <td>0</td>\n",
       "      <td>0.264686</td>\n",
       "    </tr>\n",
       "    <tr>\n",
       "      <th>426</th>\n",
       "      <td>1</td>\n",
       "      <td>0</td>\n",
       "      <td>0</td>\n",
       "      <td>0</td>\n",
       "      <td>0</td>\n",
       "      <td>0</td>\n",
       "      <td>0</td>\n",
       "      <td>1</td>\n",
       "      <td>1</td>\n",
       "      <td>0</td>\n",
       "      <td>0.255342</td>\n",
       "    </tr>\n",
       "    <tr>\n",
       "      <th>728</th>\n",
       "      <td>1</td>\n",
       "      <td>0</td>\n",
       "      <td>1</td>\n",
       "      <td>0</td>\n",
       "      <td>0</td>\n",
       "      <td>0</td>\n",
       "      <td>0</td>\n",
       "      <td>0</td>\n",
       "      <td>1</td>\n",
       "      <td>0</td>\n",
       "      <td>0.663106</td>\n",
       "    </tr>\n",
       "    <tr>\n",
       "      <th>482</th>\n",
       "      <td>0</td>\n",
       "      <td>1</td>\n",
       "      <td>0</td>\n",
       "      <td>0</td>\n",
       "      <td>0</td>\n",
       "      <td>0</td>\n",
       "      <td>0</td>\n",
       "      <td>1</td>\n",
       "      <td>1</td>\n",
       "      <td>0</td>\n",
       "      <td>0.188475</td>\n",
       "    </tr>\n",
       "  </tbody>\n",
       "</table>\n",
       "</div>"
      ],
      "text/plain": [
       "     spring  summer  December  January  November  September  \\\n",
       "653       0       0         0        0         0          0   \n",
       "576       0       0         0        0         0          0   \n",
       "426       1       0         0        0         0          0   \n",
       "728       1       0         1        0         0          0   \n",
       "482       0       1         0        0         0          0   \n",
       "\n",
       "     Light rain_Light snow_Thunderstorm  Mist_cloudy  yr  holiday  windspeed  \n",
       "653                                   0            0   1        0   0.300794  \n",
       "576                                   0            0   1        0   0.264686  \n",
       "426                                   0            1   1        0   0.255342  \n",
       "728                                   0            0   1        0   0.663106  \n",
       "482                                   0            1   1        0   0.188475  "
      ]
     },
     "execution_count": 62,
     "metadata": {},
     "output_type": "execute_result"
    }
   ],
   "source": [
    "x_train.head()"
   ]
  },
  {
   "cell_type": "code",
   "execution_count": 63,
   "id": "ec4847c2",
   "metadata": {},
   "outputs": [
    {
     "name": "stdout",
     "output_type": "stream",
     "text": [
      "                            OLS Regression Results                            \n",
      "==============================================================================\n",
      "Dep. Variable:                    cnt   R-squared:                       0.792\n",
      "Model:                            OLS   Adj. R-squared:                  0.787\n",
      "Method:                 Least Squares   F-statistic:                     172.2\n",
      "Date:                Thu, 27 Apr 2023   Prob (F-statistic):          5.64e-162\n",
      "Time:                        21:20:18   Log-Likelihood:                -4196.0\n",
      "No. Observations:                 511   AIC:                             8416.\n",
      "Df Residuals:                     499   BIC:                             8467.\n",
      "Df Model:                          11                                         \n",
      "Covariance Type:            nonrobust                                         \n",
      "======================================================================================================\n",
      "                                         coef    std err          t      P>|t|      [0.025      0.975]\n",
      "------------------------------------------------------------------------------------------------------\n",
      "const                               5096.9903    112.603     45.265      0.000    4875.755    5318.225\n",
      "spring                             -2061.5829    126.744    -16.266      0.000   -2310.601   -1812.564\n",
      "summer                              -330.0192    110.436     -2.988      0.003    -546.997    -113.042\n",
      "December                           -1016.4815    151.363     -6.716      0.000   -1313.870    -719.093\n",
      "January                            -1057.1445    171.995     -6.146      0.000   -1395.068    -719.221\n",
      "November                            -962.2322    156.291     -6.157      0.000   -1269.301    -655.163\n",
      "September                            522.5974    159.502      3.276      0.001     209.220     835.975\n",
      "Light rain_Light snow_Thunderstorm -2744.7562    241.008    -11.389      0.000   -3218.271   -2271.241\n",
      "Mist_cloudy                         -760.0172     85.270     -8.913      0.000    -927.550    -592.485\n",
      "yr                                  2140.4925     80.145     26.708      0.000    1983.029    2297.956\n",
      "holiday                             -742.6829    257.357     -2.886      0.004   -1248.320    -237.046\n",
      "windspeed                          -1659.2387    248.000     -6.690      0.000   -2146.492   -1171.985\n",
      "==============================================================================\n",
      "Omnibus:                       60.724   Durbin-Watson:                   1.942\n",
      "Prob(Omnibus):                  0.000   Jarque-Bera (JB):              146.637\n",
      "Skew:                          -0.623   Prob(JB):                     1.44e-32\n",
      "Kurtosis:                       5.310   Cond. No.                         8.79\n",
      "==============================================================================\n",
      "\n",
      "Notes:\n",
      "[1] Standard Errors assume that the covariance matrix of the errors is correctly specified.\n"
     ]
    }
   ],
   "source": [
    "print(res6.summary())"
   ]
  },
  {
   "cell_type": "code",
   "execution_count": 64,
   "id": "8cd59c8e",
   "metadata": {},
   "outputs": [
    {
     "data": {
      "text/plain": [
       "const                                 5096.9903\n",
       "spring                               -2061.5829\n",
       "summer                                -330.0192\n",
       "December                             -1016.4815\n",
       "January                              -1057.1445\n",
       "November                              -962.2322\n",
       "September                              522.5974\n",
       "Light rain_Light snow_Thunderstorm   -2744.7562\n",
       "Mist_cloudy                           -760.0172\n",
       "yr                                    2140.4925\n",
       "holiday                               -742.6829\n",
       "windspeed                            -1659.2387\n",
       "dtype: float64"
      ]
     },
     "execution_count": 64,
     "metadata": {},
     "output_type": "execute_result"
    }
   ],
   "source": [
    "round(res6.params,4)"
   ]
  },
  {
   "cell_type": "markdown",
   "id": "ca7ff209",
   "metadata": {},
   "source": [
    "## We can see that the equation for best fitted line is:"
   ]
  },
  {
   "cell_type": "markdown",
   "id": "055bc4bd",
   "metadata": {},
   "source": [
    "### cnt = 5096.9903-2061.5829 X spring-330.0192 X summer-1016.4815 X December-1057.1445 X January-  962.2322 X November+522.5974 X September-2744.7562 X Light rain_Light snow_Thunderstorm-760.0172 X Mist_cloudy+2140.4925 X yr-742.6829 X holiday-1659.2387 X windspeed"
   ]
  },
  {
   "cell_type": "markdown",
   "id": "be65c24e",
   "metadata": {},
   "source": [
    "## We can see the demand for bikes depends mainly on below variables:\n",
    "### spring , summer , December , January , November , September , Light rain_Light snow_Thunderstorm , Mist_cloudy , yr , holiday , windspeed"
   ]
  },
  {
   "cell_type": "markdown",
   "id": "9967c5f0",
   "metadata": {},
   "source": [
    "### Demand decreases in spring and summer season and in the month of December , January , November and during Light rain_Light snow_Thunderstorm and in  Mist_cloudy and when windspeed is high."
   ]
  },
  {
   "cell_type": "markdown",
   "id": "50825457",
   "metadata": {},
   "source": [
    "### Demand increase in month of September and depends on yr(year)."
   ]
  },
  {
   "cell_type": "code",
   "execution_count": null,
   "id": "7c7f4509",
   "metadata": {},
   "outputs": [],
   "source": []
  }
 ],
 "metadata": {
  "kernelspec": {
   "display_name": "Python 3 (ipykernel)",
   "language": "python",
   "name": "python3"
  },
  "language_info": {
   "codemirror_mode": {
    "name": "ipython",
    "version": 3
   },
   "file_extension": ".py",
   "mimetype": "text/x-python",
   "name": "python",
   "nbconvert_exporter": "python",
   "pygments_lexer": "ipython3",
   "version": "3.9.12"
  }
 },
 "nbformat": 4,
 "nbformat_minor": 5
}
